{
 "metadata": {
  "language_info": {
   "codemirror_mode": {
    "name": "ipython",
    "version": 3
   },
   "file_extension": ".py",
   "mimetype": "text/x-python",
   "name": "python",
   "nbconvert_exporter": "python",
   "pygments_lexer": "ipython3",
   "version": "3.9.2"
  },
  "orig_nbformat": 2,
  "kernelspec": {
   "name": "python392jvsc74a57bd0059c176afca4657624083c5c6ab8de9eff4f4c749675794626bf14d5f16b8d92",
   "display_name": "Python 3.9.2 64-bit ('recommender': conda)"
  }
 },
 "nbformat": 4,
 "nbformat_minor": 2,
 "cells": [
  {
   "cell_type": "code",
   "execution_count": 32,
   "metadata": {},
   "outputs": [],
   "source": [
    "import torch\n",
    "import torch.nn as nn\n",
    "import torch.optim as optim\n",
    "import torch.nn.functional as F\n",
    "from torch.autograd import Variable\n",
    "import pandas as pd\n",
    "import numpy as np"
   ]
  },
  {
   "cell_type": "code",
   "execution_count": 5,
   "metadata": {},
   "outputs": [
    {
     "output_type": "execute_result",
     "data": {
      "text/plain": [
       "   MovieID                               Title                        Genres\n",
       "0        1                    Toy Story (1995)   Animation|Children's|Comedy\n",
       "1        2                      Jumanji (1995)  Adventure|Children's|Fantasy\n",
       "2        3             Grumpier Old Men (1995)                Comedy|Romance\n",
       "3        4            Waiting to Exhale (1995)                  Comedy|Drama\n",
       "4        5  Father of the Bride Part II (1995)                        Comedy"
      ],
      "text/html": "<div>\n<style scoped>\n    .dataframe tbody tr th:only-of-type {\n        vertical-align: middle;\n    }\n\n    .dataframe tbody tr th {\n        vertical-align: top;\n    }\n\n    .dataframe thead th {\n        text-align: right;\n    }\n</style>\n<table border=\"1\" class=\"dataframe\">\n  <thead>\n    <tr style=\"text-align: right;\">\n      <th></th>\n      <th>MovieID</th>\n      <th>Title</th>\n      <th>Genres</th>\n    </tr>\n  </thead>\n  <tbody>\n    <tr>\n      <th>0</th>\n      <td>1</td>\n      <td>Toy Story (1995)</td>\n      <td>Animation|Children's|Comedy</td>\n    </tr>\n    <tr>\n      <th>1</th>\n      <td>2</td>\n      <td>Jumanji (1995)</td>\n      <td>Adventure|Children's|Fantasy</td>\n    </tr>\n    <tr>\n      <th>2</th>\n      <td>3</td>\n      <td>Grumpier Old Men (1995)</td>\n      <td>Comedy|Romance</td>\n    </tr>\n    <tr>\n      <th>3</th>\n      <td>4</td>\n      <td>Waiting to Exhale (1995)</td>\n      <td>Comedy|Drama</td>\n    </tr>\n    <tr>\n      <th>4</th>\n      <td>5</td>\n      <td>Father of the Bride Part II (1995)</td>\n      <td>Comedy</td>\n    </tr>\n  </tbody>\n</table>\n</div>"
     },
     "metadata": {},
     "execution_count": 5
    }
   ],
   "source": [
    "#Loading in the movies dataset\n",
    "movies_df = pd.read_csv('../ml-1m/movies.dat', sep='::', header=None, engine='python')\n",
    "movies_df.columns = ['MovieID', 'Title', 'Genres']\n",
    "movies_df.head()"
   ]
  },
  {
   "cell_type": "code",
   "execution_count": 7,
   "metadata": {},
   "outputs": [
    {
     "output_type": "execute_result",
     "data": {
      "text/plain": [
       "   UserID  MovieID  Rating  Timestamp\n",
       "0       1     1193       5  978300760\n",
       "1       1      661       3  978302109\n",
       "2       1      914       3  978301968\n",
       "3       1     3408       4  978300275\n",
       "4       1     2355       5  978824291"
      ],
      "text/html": "<div>\n<style scoped>\n    .dataframe tbody tr th:only-of-type {\n        vertical-align: middle;\n    }\n\n    .dataframe tbody tr th {\n        vertical-align: top;\n    }\n\n    .dataframe thead th {\n        text-align: right;\n    }\n</style>\n<table border=\"1\" class=\"dataframe\">\n  <thead>\n    <tr style=\"text-align: right;\">\n      <th></th>\n      <th>UserID</th>\n      <th>MovieID</th>\n      <th>Rating</th>\n      <th>Timestamp</th>\n    </tr>\n  </thead>\n  <tbody>\n    <tr>\n      <th>0</th>\n      <td>1</td>\n      <td>1193</td>\n      <td>5</td>\n      <td>978300760</td>\n    </tr>\n    <tr>\n      <th>1</th>\n      <td>1</td>\n      <td>661</td>\n      <td>3</td>\n      <td>978302109</td>\n    </tr>\n    <tr>\n      <th>2</th>\n      <td>1</td>\n      <td>914</td>\n      <td>3</td>\n      <td>978301968</td>\n    </tr>\n    <tr>\n      <th>3</th>\n      <td>1</td>\n      <td>3408</td>\n      <td>4</td>\n      <td>978300275</td>\n    </tr>\n    <tr>\n      <th>4</th>\n      <td>1</td>\n      <td>2355</td>\n      <td>5</td>\n      <td>978824291</td>\n    </tr>\n  </tbody>\n</table>\n</div>"
     },
     "metadata": {},
     "execution_count": 7
    }
   ],
   "source": [
    "#Loading in the ratings dataset\n",
    "ratings_df = pd.read_csv('../ml-1m/ratings.dat', sep='::', header=None, engine='python')\n",
    "ratings_df.columns = ['UserID', 'MovieID', 'Rating', 'Timestamp']\n",
    "ratings_df.head()"
   ]
  },
  {
   "cell_type": "code",
   "execution_count": 8,
   "metadata": {},
   "outputs": [
    {
     "output_type": "execute_result",
     "data": {
      "text/plain": [
       "MovieID  1     2     3     4     5     6     7     8     9     10    ...  \\\n",
       "UserID                                                               ...   \n",
       "1         5.0   NaN   NaN   NaN   NaN   NaN   NaN   NaN   NaN   NaN  ...   \n",
       "2         NaN   NaN   NaN   NaN   NaN   NaN   NaN   NaN   NaN   NaN  ...   \n",
       "3         NaN   NaN   NaN   NaN   NaN   NaN   NaN   NaN   NaN   NaN  ...   \n",
       "4         NaN   NaN   NaN   NaN   NaN   NaN   NaN   NaN   NaN   NaN  ...   \n",
       "5         NaN   NaN   NaN   NaN   NaN   2.0   NaN   NaN   NaN   NaN  ...   \n",
       "\n",
       "MovieID  3943  3944  3945  3946  3947  3948  3949  3950  3951  3952  \n",
       "UserID                                                               \n",
       "1         NaN   NaN   NaN   NaN   NaN   NaN   NaN   NaN   NaN   NaN  \n",
       "2         NaN   NaN   NaN   NaN   NaN   NaN   NaN   NaN   NaN   NaN  \n",
       "3         NaN   NaN   NaN   NaN   NaN   NaN   NaN   NaN   NaN   NaN  \n",
       "4         NaN   NaN   NaN   NaN   NaN   NaN   NaN   NaN   NaN   NaN  \n",
       "5         NaN   NaN   NaN   NaN   NaN   NaN   NaN   NaN   NaN   NaN  \n",
       "\n",
       "[5 rows x 3706 columns]"
      ],
      "text/html": "<div>\n<style scoped>\n    .dataframe tbody tr th:only-of-type {\n        vertical-align: middle;\n    }\n\n    .dataframe tbody tr th {\n        vertical-align: top;\n    }\n\n    .dataframe thead th {\n        text-align: right;\n    }\n</style>\n<table border=\"1\" class=\"dataframe\">\n  <thead>\n    <tr style=\"text-align: right;\">\n      <th>MovieID</th>\n      <th>1</th>\n      <th>2</th>\n      <th>3</th>\n      <th>4</th>\n      <th>5</th>\n      <th>6</th>\n      <th>7</th>\n      <th>8</th>\n      <th>9</th>\n      <th>10</th>\n      <th>...</th>\n      <th>3943</th>\n      <th>3944</th>\n      <th>3945</th>\n      <th>3946</th>\n      <th>3947</th>\n      <th>3948</th>\n      <th>3949</th>\n      <th>3950</th>\n      <th>3951</th>\n      <th>3952</th>\n    </tr>\n    <tr>\n      <th>UserID</th>\n      <th></th>\n      <th></th>\n      <th></th>\n      <th></th>\n      <th></th>\n      <th></th>\n      <th></th>\n      <th></th>\n      <th></th>\n      <th></th>\n      <th></th>\n      <th></th>\n      <th></th>\n      <th></th>\n      <th></th>\n      <th></th>\n      <th></th>\n      <th></th>\n      <th></th>\n      <th></th>\n      <th></th>\n    </tr>\n  </thead>\n  <tbody>\n    <tr>\n      <th>1</th>\n      <td>5.0</td>\n      <td>NaN</td>\n      <td>NaN</td>\n      <td>NaN</td>\n      <td>NaN</td>\n      <td>NaN</td>\n      <td>NaN</td>\n      <td>NaN</td>\n      <td>NaN</td>\n      <td>NaN</td>\n      <td>...</td>\n      <td>NaN</td>\n      <td>NaN</td>\n      <td>NaN</td>\n      <td>NaN</td>\n      <td>NaN</td>\n      <td>NaN</td>\n      <td>NaN</td>\n      <td>NaN</td>\n      <td>NaN</td>\n      <td>NaN</td>\n    </tr>\n    <tr>\n      <th>2</th>\n      <td>NaN</td>\n      <td>NaN</td>\n      <td>NaN</td>\n      <td>NaN</td>\n      <td>NaN</td>\n      <td>NaN</td>\n      <td>NaN</td>\n      <td>NaN</td>\n      <td>NaN</td>\n      <td>NaN</td>\n      <td>...</td>\n      <td>NaN</td>\n      <td>NaN</td>\n      <td>NaN</td>\n      <td>NaN</td>\n      <td>NaN</td>\n      <td>NaN</td>\n      <td>NaN</td>\n      <td>NaN</td>\n      <td>NaN</td>\n      <td>NaN</td>\n    </tr>\n    <tr>\n      <th>3</th>\n      <td>NaN</td>\n      <td>NaN</td>\n      <td>NaN</td>\n      <td>NaN</td>\n      <td>NaN</td>\n      <td>NaN</td>\n      <td>NaN</td>\n      <td>NaN</td>\n      <td>NaN</td>\n      <td>NaN</td>\n      <td>...</td>\n      <td>NaN</td>\n      <td>NaN</td>\n      <td>NaN</td>\n      <td>NaN</td>\n      <td>NaN</td>\n      <td>NaN</td>\n      <td>NaN</td>\n      <td>NaN</td>\n      <td>NaN</td>\n      <td>NaN</td>\n    </tr>\n    <tr>\n      <th>4</th>\n      <td>NaN</td>\n      <td>NaN</td>\n      <td>NaN</td>\n      <td>NaN</td>\n      <td>NaN</td>\n      <td>NaN</td>\n      <td>NaN</td>\n      <td>NaN</td>\n      <td>NaN</td>\n      <td>NaN</td>\n      <td>...</td>\n      <td>NaN</td>\n      <td>NaN</td>\n      <td>NaN</td>\n      <td>NaN</td>\n      <td>NaN</td>\n      <td>NaN</td>\n      <td>NaN</td>\n      <td>NaN</td>\n      <td>NaN</td>\n      <td>NaN</td>\n    </tr>\n    <tr>\n      <th>5</th>\n      <td>NaN</td>\n      <td>NaN</td>\n      <td>NaN</td>\n      <td>NaN</td>\n      <td>NaN</td>\n      <td>2.0</td>\n      <td>NaN</td>\n      <td>NaN</td>\n      <td>NaN</td>\n      <td>NaN</td>\n      <td>...</td>\n      <td>NaN</td>\n      <td>NaN</td>\n      <td>NaN</td>\n      <td>NaN</td>\n      <td>NaN</td>\n      <td>NaN</td>\n      <td>NaN</td>\n      <td>NaN</td>\n      <td>NaN</td>\n      <td>NaN</td>\n    </tr>\n  </tbody>\n</table>\n<p>5 rows × 3706 columns</p>\n</div>"
     },
     "metadata": {},
     "execution_count": 8
    }
   ],
   "source": [
    "user_rating_df = ratings_df.pivot(index='UserID', columns='MovieID', values='Rating')\n",
    "user_rating_df.head()"
   ]
  },
  {
   "cell_type": "code",
   "execution_count": 11,
   "metadata": {},
   "outputs": [
    {
     "output_type": "execute_result",
     "data": {
      "text/plain": [
       "array([[1. , 0. , 0. , 0. , 0. , 0. , 0. , 0. , 0. , 0. ],\n",
       "       [0. , 0. , 0. , 0. , 0. , 0. , 0. , 0. , 0. , 0. ],\n",
       "       [0. , 0. , 0. , 0. , 0. , 0. , 0. , 0. , 0. , 0. ],\n",
       "       [0. , 0. , 0. , 0. , 0. , 0. , 0. , 0. , 0. , 0. ],\n",
       "       [0. , 0. , 0. , 0. , 0. , 0.4, 0. , 0. , 0. , 0. ]])"
      ]
     },
     "metadata": {},
     "execution_count": 11
    }
   ],
   "source": [
    "norm_user_rating_df = user_rating_df.fillna(0) / 5.0\n",
    "trainX = norm_user_rating_df.values\n",
    "trainX[0:5, 0:10]"
   ]
  },
  {
   "cell_type": "code",
   "execution_count": 27,
   "metadata": {},
   "outputs": [],
   "source": [
    "batch_size = 64\n",
    "train_loader = torch.utils.data.DataLoader(torch.FloatTensor(trainX), batch_size=batch_size, shuffle=True)"
   ]
  },
  {
   "cell_type": "code",
   "execution_count": 28,
   "metadata": {},
   "outputs": [],
   "source": [
    "example = next(iter(train_loader))"
   ]
  },
  {
   "cell_type": "code",
   "execution_count": 29,
   "metadata": {},
   "outputs": [
    {
     "output_type": "stream",
     "name": "stdout",
     "text": [
      "torch.Size([64, 3706])\ntorch.Size([3706])\n"
     ]
    }
   ],
   "source": [
    "print(example.shape)\n",
    "print(example[0].shape)"
   ]
  },
  {
   "cell_type": "code",
   "execution_count": 42,
   "metadata": {},
   "outputs": [],
   "source": [
    "class RBM(nn.Module):\n",
    "   def __init__(self,\n",
    "               n_vis=3706,\n",
    "               n_hin=500,\n",
    "               k=5):\n",
    "        super(RBM, self).__init__()\n",
    "        self.W = nn.Parameter(torch.randn(n_hin,n_vis)*1e-2)\n",
    "        self.v_bias = nn.Parameter(torch.zeros(n_vis))\n",
    "        self.h_bias = nn.Parameter(torch.zeros(n_hin))\n",
    "        self.k = k\n",
    "    \n",
    "   def sample_from_p(self,p):\n",
    "       return F.relu(torch.sign(p - Variable(torch.rand(p.size()))))   # draw binary samples with p being the probablity of being 1, we can also use bernoulli, this implementation is just more bottom.\n",
    "    \n",
    "   def v_to_h(self,v):\n",
    "        p_h = torch.sigmoid(F.linear(v,self.W,self.h_bias))\n",
    "        sample_h = self.sample_from_p(p_h)\n",
    "        return p_h,sample_h\n",
    "    \n",
    "   def h_to_v(self,h):\n",
    "        p_v = torch.sigmoid(F.linear(h,self.W.t(),self.v_bias))\n",
    "        sample_v = self.sample_from_p(p_v)\n",
    "        return p_v,sample_v\n",
    "        \n",
    "   def forward(self,v):\n",
    "        p_h1,h1 = self.v_to_h(v)\n",
    "        \n",
    "        h_ = h1\n",
    "        for _ in range(self.k):\n",
    "            p_v_,v_ = self.h_to_v(h_)\n",
    "            p_h_,h_ = self.v_to_h(v_)\n",
    "        \n",
    "        return v,v_, p_v_\n",
    "    \n",
    "   def free_energy(self,v):\n",
    "        vbias_term = v.mv(self.v_bias) # torch.mv() performs a matrix-vector product\n",
    "        wx_b = F.linear(v,self.W,self.h_bias)\n",
    "        hidden_term = wx_b.exp().add(1).log().sum(1)\n",
    "        return (-hidden_term - vbias_term).mean()"
   ]
  },
  {
   "cell_type": "code",
   "execution_count": 43,
   "metadata": {},
   "outputs": [
    {
     "output_type": "stream",
     "name": "stdout",
     "text": [
      "Training loss for 0 epoch: -111.7513656616211\n",
      "Training loss for 1 epoch: -45.5367546081543\n",
      "Training loss for 2 epoch: -22.589345932006836\n",
      "Training loss for 3 epoch: -13.990769386291504\n",
      "Training loss for 4 epoch: -9.718010902404785\n",
      "Training loss for 5 epoch: -7.415131568908691\n",
      "Training loss for 6 epoch: -5.953097343444824\n",
      "Training loss for 7 epoch: -4.648928642272949\n",
      "Training loss for 8 epoch: -4.907916069030762\n",
      "Training loss for 9 epoch: -3.8093464374542236\n"
     ]
    }
   ],
   "source": [
    "rbm = RBM(k=1)\n",
    "train_op = optim.SGD(rbm.parameters(),0.1)\n",
    "\n",
    "for epoch in range(10):\n",
    "    loss_ = []\n",
    "    for _, data in enumerate(train_loader):\n",
    "        # data = Variable(data.view(-1,784))  # 784 = 1 * 28 * 28\n",
    "        # sample_data = data.bernoulli()   # draw bernoulli variables using the probability in the tensor, input should be in the range of [0, 1].\n",
    "        \n",
    "        v,v1,_ = rbm(data)\n",
    "        loss = rbm.free_energy(v) - rbm.free_energy(v1)\n",
    "        loss_.append(loss.data)\n",
    "        train_op.zero_grad()\n",
    "        loss.backward()\n",
    "        train_op.step()\n",
    "\n",
    "    print(\"Training loss for {} epoch: {}\".format(epoch, np.mean(loss_)))"
   ]
  },
  {
   "source": [
    "# Inference"
   ],
   "cell_type": "markdown",
   "metadata": {}
  },
  {
   "source": [
    "## Check an example"
   ],
   "cell_type": "markdown",
   "metadata": {}
  },
  {
   "cell_type": "code",
   "execution_count": 68,
   "metadata": {},
   "outputs": [
    {
     "output_type": "stream",
     "name": "stdout",
     "text": [
      "torch.Size([1, 3706])\ntorch.Size([64, 3706])\ntensor([[0.8000, 0.0000, 0.0000,  ..., 0.0000, 0.0000, 0.0000]])\n"
     ]
    }
   ],
   "source": [
    "mock_user_id = 215\n",
    "inputUser = torch.FloatTensor(trainX[mock_user_id - 1]).reshape(1,-1)\n",
    "print(inputUser.shape)\n",
    "print(example.shape)\n",
    "print(inputUser)"
   ]
  },
  {
   "cell_type": "code",
   "execution_count": 48,
   "metadata": {},
   "outputs": [
    {
     "output_type": "stream",
     "name": "stdout",
     "text": [
      "tensor([[0.8000, 0.0000, 0.0000,  ..., 0.0000, 0.0000, 0.0000]])\ntensor([[0., 0., 0.,  ..., 0., 0., 0.]], grad_fn=<ReluBackward0>)\ntensor([[0.0352, 0.0351, 0.0279,  ..., 0.0006, 0.0006, 0.0059]],\n       grad_fn=<SigmoidBackward>)\ntorch.Size([1, 3706])\n"
     ]
    }
   ],
   "source": [
    "v, v1, p_v1 = rbm(inputUser)\n",
    "print(v)\n",
    "print(v1)\n",
    "print(p_v1)\n",
    "print(p_v1.shape)"
   ]
  },
  {
   "cell_type": "code",
   "execution_count": 60,
   "metadata": {},
   "outputs": [
    {
     "output_type": "stream",
     "name": "stderr",
     "text": [
      "<ipython-input-60-b059be3d52e9>:2: SettingWithCopyWarning: \nA value is trying to be set on a copy of a slice from a DataFrame.\nTry using .loc[row_indexer,col_indexer] = value instead\n\nSee the caveats in the documentation: https://pandas.pydata.org/pandas-docs/stable/user_guide/indexing.html#returning-a-view-versus-a-copy\n  scored_movies_df_mock['RecommendationScore'] = p_v1.squeeze().detach().numpy()\n"
     ]
    },
    {
     "output_type": "execute_result",
     "data": {
      "text/plain": [
       "      MovieID                                              Title  \\\n",
       "476       480                               Jurassic Park (1993)   \n",
       "257       260          Star Wars: Episode IV - A New Hope (1977)   \n",
       "2559     2628   Star Wars: Episode I - The Phantom Menace (1999)   \n",
       "3106     3175                                Galaxy Quest (1999)   \n",
       "1178     1196  Star Wars: Episode V - The Empire Strikes Back...   \n",
       "\n",
       "                                 Genres  RecommendationScore  \n",
       "476             Action|Adventure|Sci-Fi             0.928799  \n",
       "257     Action|Adventure|Fantasy|Sci-Fi             0.924716  \n",
       "2559    Action|Adventure|Fantasy|Sci-Fi             0.900216  \n",
       "3106            Adventure|Comedy|Sci-Fi             0.871700  \n",
       "1178  Action|Adventure|Drama|Sci-Fi|War             0.828720  "
      ],
      "text/html": "<div>\n<style scoped>\n    .dataframe tbody tr th:only-of-type {\n        vertical-align: middle;\n    }\n\n    .dataframe tbody tr th {\n        vertical-align: top;\n    }\n\n    .dataframe thead th {\n        text-align: right;\n    }\n</style>\n<table border=\"1\" class=\"dataframe\">\n  <thead>\n    <tr style=\"text-align: right;\">\n      <th></th>\n      <th>MovieID</th>\n      <th>Title</th>\n      <th>Genres</th>\n      <th>RecommendationScore</th>\n    </tr>\n  </thead>\n  <tbody>\n    <tr>\n      <th>476</th>\n      <td>480</td>\n      <td>Jurassic Park (1993)</td>\n      <td>Action|Adventure|Sci-Fi</td>\n      <td>0.928799</td>\n    </tr>\n    <tr>\n      <th>257</th>\n      <td>260</td>\n      <td>Star Wars: Episode IV - A New Hope (1977)</td>\n      <td>Action|Adventure|Fantasy|Sci-Fi</td>\n      <td>0.924716</td>\n    </tr>\n    <tr>\n      <th>2559</th>\n      <td>2628</td>\n      <td>Star Wars: Episode I - The Phantom Menace (1999)</td>\n      <td>Action|Adventure|Fantasy|Sci-Fi</td>\n      <td>0.900216</td>\n    </tr>\n    <tr>\n      <th>3106</th>\n      <td>3175</td>\n      <td>Galaxy Quest (1999)</td>\n      <td>Adventure|Comedy|Sci-Fi</td>\n      <td>0.871700</td>\n    </tr>\n    <tr>\n      <th>1178</th>\n      <td>1196</td>\n      <td>Star Wars: Episode V - The Empire Strikes Back...</td>\n      <td>Action|Adventure|Drama|Sci-Fi|War</td>\n      <td>0.828720</td>\n    </tr>\n  </tbody>\n</table>\n</div>"
     },
     "metadata": {},
     "execution_count": 60
    }
   ],
   "source": [
    "scored_movies_df_mock = movies_df[movies_df['MovieID'].isin(user_rating_df.columns)]\n",
    "scored_movies_df_mock['RecommendationScore'] = p_v1.squeeze().detach().numpy()\n",
    "scored_movies_df_mock.sort_values(['RecommendationScore'], ascending=False).head()\n",
    "# scored_movies_df_mock"
   ]
  },
  {
   "cell_type": "code",
   "execution_count": 65,
   "metadata": {},
   "outputs": [
    {
     "output_type": "execute_result",
     "data": {
      "text/plain": [
       "      MovieID                                              Title  \\\n",
       "466       480                               Jurassic Park (1993)   \n",
       "253       260          Star Wars: Episode IV - A New Hope (1977)   \n",
       "2426     2628   Star Wars: Episode I - The Phantom Menace (1999)   \n",
       "2958     3175                                Galaxy Quest (1999)   \n",
       "1106     1196  Star Wars: Episode V - The Empire Strikes Back...   \n",
       "2374     2571                                 Matrix, The (1999)   \n",
       "1485     1617                           L.A. Confidential (1997)   \n",
       "1104     1193             One Flew Over the Cuckoo's Nest (1975)   \n",
       "1050     1127                                  Abyss, The (1989)   \n",
       "31         32                              Twelve Monkeys (1995)   \n",
       "1116     1206                         Clockwork Orange, A (1971)   \n",
       "1832     2012                 Back to the Future Part III (1990)   \n",
       "1737     1917                                  Armageddon (1998)   \n",
       "3074     3300                                 Pitch Black (2000)   \n",
       "3550     3793                                       X-Men (2000)   \n",
       "1516     1653                                     Gattaca (1997)   \n",
       "1574     1721                                     Titanic (1997)   \n",
       "527       541                                Blade Runner (1982)   \n",
       "1275     1374                Star Trek: The Wrath of Khan (1982)   \n",
       "575       589                  Terminator 2: Judgment Day (1991)   \n",
       "\n",
       "                                 Genres  RecommendationScore  UserID  Rating  \\\n",
       "466             Action|Adventure|Sci-Fi             0.928799   215.0     5.0   \n",
       "253     Action|Adventure|Fantasy|Sci-Fi             0.924716   215.0     5.0   \n",
       "2426    Action|Adventure|Fantasy|Sci-Fi             0.900216   215.0     5.0   \n",
       "2958            Adventure|Comedy|Sci-Fi             0.871700     NaN     NaN   \n",
       "1106  Action|Adventure|Drama|Sci-Fi|War             0.828720     NaN     NaN   \n",
       "2374             Action|Sci-Fi|Thriller             0.750407     NaN     NaN   \n",
       "1485   Crime|Film-Noir|Mystery|Thriller             0.488800   215.0     4.0   \n",
       "1104                              Drama             0.480483     NaN     NaN   \n",
       "1050   Action|Adventure|Sci-Fi|Thriller             0.471493     NaN     NaN   \n",
       "31                         Drama|Sci-Fi             0.406044     NaN     NaN   \n",
       "1116                             Sci-Fi             0.379235     NaN     NaN   \n",
       "1832              Comedy|Sci-Fi|Western             0.345412     NaN     NaN   \n",
       "1737   Action|Adventure|Sci-Fi|Thriller             0.341514     NaN     NaN   \n",
       "3074                      Action|Sci-Fi             0.317689     NaN     NaN   \n",
       "3550                      Action|Sci-Fi             0.302397   215.0     5.0   \n",
       "1516              Drama|Sci-Fi|Thriller             0.284069     NaN     NaN   \n",
       "1574                      Drama|Romance             0.275358     NaN     NaN   \n",
       "527                    Film-Noir|Sci-Fi             0.267452     NaN     NaN   \n",
       "1275            Action|Adventure|Sci-Fi             0.264951     NaN     NaN   \n",
       "575              Action|Sci-Fi|Thriller             0.264257     NaN     NaN   \n",
       "\n",
       "        Timestamp  \n",
       "466   976899784.0  \n",
       "253   976899190.0  \n",
       "2426  976908635.0  \n",
       "2958          NaN  \n",
       "1106          NaN  \n",
       "2374          NaN  \n",
       "1485  976908485.0  \n",
       "1104          NaN  \n",
       "1050          NaN  \n",
       "31            NaN  \n",
       "1116          NaN  \n",
       "1832          NaN  \n",
       "1737          NaN  \n",
       "3074          NaN  \n",
       "3550  977099259.0  \n",
       "1516          NaN  \n",
       "1574          NaN  \n",
       "527           NaN  \n",
       "1275          NaN  \n",
       "575           NaN  "
      ],
      "text/html": "<div>\n<style scoped>\n    .dataframe tbody tr th:only-of-type {\n        vertical-align: middle;\n    }\n\n    .dataframe tbody tr th {\n        vertical-align: top;\n    }\n\n    .dataframe thead th {\n        text-align: right;\n    }\n</style>\n<table border=\"1\" class=\"dataframe\">\n  <thead>\n    <tr style=\"text-align: right;\">\n      <th></th>\n      <th>MovieID</th>\n      <th>Title</th>\n      <th>Genres</th>\n      <th>RecommendationScore</th>\n      <th>UserID</th>\n      <th>Rating</th>\n      <th>Timestamp</th>\n    </tr>\n  </thead>\n  <tbody>\n    <tr>\n      <th>466</th>\n      <td>480</td>\n      <td>Jurassic Park (1993)</td>\n      <td>Action|Adventure|Sci-Fi</td>\n      <td>0.928799</td>\n      <td>215.0</td>\n      <td>5.0</td>\n      <td>976899784.0</td>\n    </tr>\n    <tr>\n      <th>253</th>\n      <td>260</td>\n      <td>Star Wars: Episode IV - A New Hope (1977)</td>\n      <td>Action|Adventure|Fantasy|Sci-Fi</td>\n      <td>0.924716</td>\n      <td>215.0</td>\n      <td>5.0</td>\n      <td>976899190.0</td>\n    </tr>\n    <tr>\n      <th>2426</th>\n      <td>2628</td>\n      <td>Star Wars: Episode I - The Phantom Menace (1999)</td>\n      <td>Action|Adventure|Fantasy|Sci-Fi</td>\n      <td>0.900216</td>\n      <td>215.0</td>\n      <td>5.0</td>\n      <td>976908635.0</td>\n    </tr>\n    <tr>\n      <th>2958</th>\n      <td>3175</td>\n      <td>Galaxy Quest (1999)</td>\n      <td>Adventure|Comedy|Sci-Fi</td>\n      <td>0.871700</td>\n      <td>NaN</td>\n      <td>NaN</td>\n      <td>NaN</td>\n    </tr>\n    <tr>\n      <th>1106</th>\n      <td>1196</td>\n      <td>Star Wars: Episode V - The Empire Strikes Back...</td>\n      <td>Action|Adventure|Drama|Sci-Fi|War</td>\n      <td>0.828720</td>\n      <td>NaN</td>\n      <td>NaN</td>\n      <td>NaN</td>\n    </tr>\n    <tr>\n      <th>2374</th>\n      <td>2571</td>\n      <td>Matrix, The (1999)</td>\n      <td>Action|Sci-Fi|Thriller</td>\n      <td>0.750407</td>\n      <td>NaN</td>\n      <td>NaN</td>\n      <td>NaN</td>\n    </tr>\n    <tr>\n      <th>1485</th>\n      <td>1617</td>\n      <td>L.A. Confidential (1997)</td>\n      <td>Crime|Film-Noir|Mystery|Thriller</td>\n      <td>0.488800</td>\n      <td>215.0</td>\n      <td>4.0</td>\n      <td>976908485.0</td>\n    </tr>\n    <tr>\n      <th>1104</th>\n      <td>1193</td>\n      <td>One Flew Over the Cuckoo's Nest (1975)</td>\n      <td>Drama</td>\n      <td>0.480483</td>\n      <td>NaN</td>\n      <td>NaN</td>\n      <td>NaN</td>\n    </tr>\n    <tr>\n      <th>1050</th>\n      <td>1127</td>\n      <td>Abyss, The (1989)</td>\n      <td>Action|Adventure|Sci-Fi|Thriller</td>\n      <td>0.471493</td>\n      <td>NaN</td>\n      <td>NaN</td>\n      <td>NaN</td>\n    </tr>\n    <tr>\n      <th>31</th>\n      <td>32</td>\n      <td>Twelve Monkeys (1995)</td>\n      <td>Drama|Sci-Fi</td>\n      <td>0.406044</td>\n      <td>NaN</td>\n      <td>NaN</td>\n      <td>NaN</td>\n    </tr>\n    <tr>\n      <th>1116</th>\n      <td>1206</td>\n      <td>Clockwork Orange, A (1971)</td>\n      <td>Sci-Fi</td>\n      <td>0.379235</td>\n      <td>NaN</td>\n      <td>NaN</td>\n      <td>NaN</td>\n    </tr>\n    <tr>\n      <th>1832</th>\n      <td>2012</td>\n      <td>Back to the Future Part III (1990)</td>\n      <td>Comedy|Sci-Fi|Western</td>\n      <td>0.345412</td>\n      <td>NaN</td>\n      <td>NaN</td>\n      <td>NaN</td>\n    </tr>\n    <tr>\n      <th>1737</th>\n      <td>1917</td>\n      <td>Armageddon (1998)</td>\n      <td>Action|Adventure|Sci-Fi|Thriller</td>\n      <td>0.341514</td>\n      <td>NaN</td>\n      <td>NaN</td>\n      <td>NaN</td>\n    </tr>\n    <tr>\n      <th>3074</th>\n      <td>3300</td>\n      <td>Pitch Black (2000)</td>\n      <td>Action|Sci-Fi</td>\n      <td>0.317689</td>\n      <td>NaN</td>\n      <td>NaN</td>\n      <td>NaN</td>\n    </tr>\n    <tr>\n      <th>3550</th>\n      <td>3793</td>\n      <td>X-Men (2000)</td>\n      <td>Action|Sci-Fi</td>\n      <td>0.302397</td>\n      <td>215.0</td>\n      <td>5.0</td>\n      <td>977099259.0</td>\n    </tr>\n    <tr>\n      <th>1516</th>\n      <td>1653</td>\n      <td>Gattaca (1997)</td>\n      <td>Drama|Sci-Fi|Thriller</td>\n      <td>0.284069</td>\n      <td>NaN</td>\n      <td>NaN</td>\n      <td>NaN</td>\n    </tr>\n    <tr>\n      <th>1574</th>\n      <td>1721</td>\n      <td>Titanic (1997)</td>\n      <td>Drama|Romance</td>\n      <td>0.275358</td>\n      <td>NaN</td>\n      <td>NaN</td>\n      <td>NaN</td>\n    </tr>\n    <tr>\n      <th>527</th>\n      <td>541</td>\n      <td>Blade Runner (1982)</td>\n      <td>Film-Noir|Sci-Fi</td>\n      <td>0.267452</td>\n      <td>NaN</td>\n      <td>NaN</td>\n      <td>NaN</td>\n    </tr>\n    <tr>\n      <th>1275</th>\n      <td>1374</td>\n      <td>Star Trek: The Wrath of Khan (1982)</td>\n      <td>Action|Adventure|Sci-Fi</td>\n      <td>0.264951</td>\n      <td>NaN</td>\n      <td>NaN</td>\n      <td>NaN</td>\n    </tr>\n    <tr>\n      <th>575</th>\n      <td>589</td>\n      <td>Terminator 2: Judgment Day (1991)</td>\n      <td>Action|Sci-Fi|Thriller</td>\n      <td>0.264257</td>\n      <td>NaN</td>\n      <td>NaN</td>\n      <td>NaN</td>\n    </tr>\n  </tbody>\n</table>\n</div>"
     },
     "metadata": {},
     "execution_count": 65
    }
   ],
   "source": [
    "ratings_df_mock = ratings_df[ratings_df['UserID'] == mock_user_id]\n",
    "merged_df_mock = scored_movies_df_mock.merge(ratings_df_mock, on = 'MovieID', how = 'outer')\n",
    "merged_df_mock.sort_values(['RecommendationScore'], ascending=False, inplace=True)\n",
    "merged_df_mock.head(20)"
   ]
  },
  {
   "cell_type": "code",
   "execution_count": null,
   "metadata": {},
   "outputs": [],
   "source": []
  }
 ]
}