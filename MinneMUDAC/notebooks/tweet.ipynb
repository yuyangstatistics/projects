{
 "cells": [
  {
   "cell_type": "markdown",
   "metadata": {},
   "source": [
    "# Analysis of Trump's Tweet Data\n",
    "\n",
    "Data Source: \n",
    "http://www.trumptwitterarchive.com/archive\n",
    "\n",
    "Data Time Range:\n",
    "01-20-2017 - 11-01-2019\n",
    "\n",
    "Analysis Procedure:\n",
    "- Step 1: Text Preprocessing\n",
    "- Step 2: Topic Modeling--LDA model\n",
    "- Step 3: Sentiment Analysis\n",
    "- Step 4: Time series plots"
   ]
  },
  {
   "cell_type": "code",
   "execution_count": 1,
   "metadata": {},
   "outputs": [],
   "source": [
    "%matplotlib inline\n",
    "import pandas as pd\n",
    "import numpy as np\n",
    "np.random.seed(2019)\n",
    "from collections import Counter\n",
    "import matplotlib.pyplot as plt\n",
    "import warnings\n",
    "warnings.filterwarnings('ignore')"
   ]
  },
  {
   "cell_type": "code",
   "execution_count": 2,
   "metadata": {},
   "outputs": [],
   "source": [
    "dateparser = lambda x: pd.datetime.strptime(x, '%m-%d-%Y %H:%M:%S')\n",
    "tweet = pd.read_csv('tweet-update.csv')\n",
    "tweet = tweet.dropna(subset=['created_at'])\n",
    "tweet['created_at'] = tweet['created_at'].apply(dateparser)\n",
    "tweet = tweet.reset_index(drop=True)"
   ]
  },
  {
   "cell_type": "markdown",
   "metadata": {},
   "source": [
    "## Step 1: Text Preprocessing\n",
    "\n",
    "References:\n",
    "- [Mining Twitter Data with Python](https://marcobonzanini.com/2015/03/09/mining-twitter-data-with-python-part-2/)\n",
    "- [Friends_text_generator](https://github.com/XuanX111/Friends_text_generator/blob/master/Friends_LDAvis_Xuan_Qi.ipynb)\n",
    "- [Topic Modeling and Latent Dirichlet Allocation (LDA) in Python](https://towardsdatascience.com/topic-modeling-and-latent-dirichlet-allocation-in-python-9bf156893c24)"
   ]
  },
  {
   "cell_type": "code",
   "execution_count": 4,
   "metadata": {},
   "outputs": [],
   "source": [
    "import gensim\n",
    "from gensim.utils import simple_preprocess\n",
    "from gensim.parsing.preprocessing import STOPWORDS\n",
    "from gensim import models\n",
    "from gensim.corpora import Dictionary, MmCorpus\n",
    "from nltk.tokenize import word_tokenize\n",
    "from nltk.corpus import stopwords\n",
    "from nltk.stem import WordNetLemmatizer, SnowballStemmer\n",
    "from nltk.stem.porter import *\n",
    "import re\n",
    "import string"
   ]
  },
  {
   "cell_type": "code",
   "execution_count": 5,
   "metadata": {
    "code_folding": [
     1,
     8
    ]
   },
   "outputs": [],
   "source": [
    "## text pre-processing\n",
    "emoticons_str = r\"\"\"\n",
    "    (?:\n",
    "        [:=;] # Eyes\n",
    "        [oO\\-]? # Nose (optional)\n",
    "        [D\\)\\]\\(\\]/\\\\OpP] # Mouth\n",
    "    )\"\"\"\n",
    " \n",
    "regex_str = [\n",
    "    emoticons_str,\n",
    "    r'<[^>]+>', # HTML tags\n",
    "    r'(?:@[\\w_]+)', # @-mentions\n",
    "    r\"(?:\\#+[\\w_]+[\\w\\'_\\-]*[\\w_]+)\", # hash-tags\n",
    "    r'http[s]?://(?:[a-z]|[0-9]|[$-_@.&amp;+]|[!*\\(\\),]|(?:%[0-9a-f][0-9a-f]))+', # URLs\n",
    " \n",
    "    r'(?:(?:\\d+,?)+(?:\\.?\\d+)?)', # numbers\n",
    "    r\"(?:[a-z][a-z'\\-_]+[a-z])\", # words with - and '\n",
    "    r'(?:[\\w_]+)', # other words\n",
    "    r'(?:\\S)' # anything else\n",
    "]\n",
    "    \n",
    "tokens_re = re.compile(r'('+'|'.join(regex_str)+')', re.VERBOSE | re.IGNORECASE)\n",
    "emoticon_re = re.compile(r'^'+emoticons_str+'$', re.VERBOSE | re.IGNORECASE)\n",
    "\n",
    "punctuation = list(string.punctuation)\n",
    "stop = stopwords.words('english') + punctuation + ['rt', 'via', 'RT', 'Via']\n",
    "\n",
    "def tokenize(s):\n",
    "    return tokens_re.findall(s)\n",
    "\n",
    "def preprocess(s):\n",
    "    tokens = [token for token in tokenize(s) if token not in stop and not token.startswith(('#', '@'))]\n",
    "    tokens = [token if emoticon_re.search(token) else token.lower() for token in tokens]    \n",
    "    lemmatizer = WordNetLemmatizer()\n",
    "    tokens = [lemmatizer.lemmatize(token) for token in tokens if len(token)>2]\n",
    "    return tokens"
   ]
  },
  {
   "cell_type": "code",
   "execution_count": 6,
   "metadata": {
    "code_folding": [],
    "scrolled": true
   },
   "outputs": [
    {
     "name": "stdout",
     "output_type": "stream",
     "text": [
      "....our great police are being disrespected even with water dumped on them because a Mayor and Governor just don’t “have their backs.” New York’s Finest must be cherished respected and loved. Too many prople are leaving our special New York. Great leaders would work....\n",
      "['great', 'police', 'disrespected', 'even', 'water', 'dumped', 'mayor', 'governor', 'back', 'new', 'york', 'finest', 'must', 'cherished', 'respected', 'loved', 'too', 'many', 'prople', 'leaving', 'special', 'new', 'york', 'great', 'leader', 'would', 'work']\n"
     ]
    }
   ],
   "source": [
    "# an example of preprocessing\n",
    "print(tweet.iloc[9]['text'])\n",
    "print(preprocess(tweet.iloc[9]['text']))"
   ]
  },
  {
   "cell_type": "code",
   "execution_count": 7,
   "metadata": {},
   "outputs": [],
   "source": [
    "# preprocess the tokens column\n",
    "tweet['tokens'] = tweet['text'].apply(preprocess)"
   ]
  },
  {
   "cell_type": "code",
   "execution_count": 8,
   "metadata": {},
   "outputs": [],
   "source": [
    "# prepare the corpus\n",
    "\n",
    "def prep_corpus(docs, additional_stopwords=set(), no_below=10, no_above=0.5):\n",
    "    print('Building dictionary...')\n",
    "    dictionary = Dictionary(docs)\n",
    "    dictionary.filter_extremes(no_below=no_below, no_above=no_above, keep_n=None)\n",
    "    print(dictionary)\n",
    "    dictionary.compactify()\n",
    "    \n",
    "    print('Building corpus...')\n",
    "    corpus = [dictionary.doc2bow(doc) for doc in docs]\n",
    "    \n",
    "    return dictionary, corpus"
   ]
  },
  {
   "cell_type": "code",
   "execution_count": 9,
   "metadata": {},
   "outputs": [
    {
     "name": "stdout",
     "output_type": "stream",
     "text": [
      "Building dictionary...\n",
      "Dictionary(2385 unique tokens: ['account', 'adam', 'call', 'come', 'committee']...)\n",
      "Building corpus...\n"
     ]
    }
   ],
   "source": [
    "dictionary, corpus = prep_corpus(tweet['tokens'])\n",
    "MmCorpus.serialize('tweet.mm', corpus)\n",
    "dictionary.save('tweet.dict')"
   ]
  },
  {
   "cell_type": "markdown",
   "metadata": {},
   "source": [
    "## Step 2: Topic Modeling--LDA model\n",
    "\n",
    "References:\n",
    "- [Topic Modeling and Latent Dirichlet Allocation (LDA) in Python](https://towardsdatascience.com/topic-modeling-and-latent-dirichlet-allocation-in-python-9bf156893c24)\n",
    "- [Friends_text_generator](https://github.com/XuanX111/Friends_text_generator/blob/master/Friends_LDAvis_Xuan_Qi.ipynb)\n",
    "- [Topic Modeling with Gensim](https://www.machinelearningplus.com/nlp/topic-modeling-gensim-python/)\n",
    "- [pyLDAvis](https://nbviewer.jupyter.org/github/bmabey/pyLDAvis/blob/master/notebooks/pyLDAvis_overview.ipynb)\n",
    "\n",
    "Results:\n",
    "- Topic 3 reflects the economic information.\n",
    "- Topic 6 reflects the trade information."
   ]
  },
  {
   "cell_type": "code",
   "execution_count": 10,
   "metadata": {},
   "outputs": [],
   "source": [
    "import pyLDAvis.gensim as gensimvis\n",
    "import pyLDAvis\n",
    "\n",
    "pyLDAvis.enable_notebook()"
   ]
  },
  {
   "cell_type": "code",
   "execution_count": 11,
   "metadata": {
    "code_folding": [
     0
    ]
   },
   "outputs": [
    {
     "name": "stdout",
     "output_type": "stream",
     "text": [
      "CPU times: user 34.2 s, sys: 88.5 ms, total: 34.3 s\n",
      "Wall time: 34.5 s\n"
     ]
    }
   ],
   "source": [
    "%%time\n",
    "lda_model = models.ldamodel.LdaModel(corpus=corpus, id2word=dictionary, num_topics=30, passes=10)\n",
    "lda_model.save('tweet.model')\n",
    "visual = gensimvis.prepare(lda_model, corpus, dictionary)\n",
    "pyLDAvis.save_html(visual, 'tweetLDA.html')"
   ]
  },
  {
   "cell_type": "code",
   "execution_count": 14,
   "metadata": {
    "code_folding": [
     0
    ]
   },
   "outputs": [
    {
     "name": "stdout",
     "output_type": "stream",
     "text": [
      "CPU times: user 48.1 s, sys: 508 ms, total: 48.6 s\n",
      "Wall time: 2min 14s\n"
     ]
    }
   ],
   "source": [
    "%%time\n",
    "lda_model2 = models.ldamodel.LdaModel(corpus=corpus, id2word=dictionary, num_topics=30, passes=10)\n",
    "lda_model2.save('tweet2.model')\n",
    "visual2 = gensimvis.prepare(lda_model2, corpus, dictionary)\n",
    "pyLDAvis.save_html(visual2, 'tweetLDA2.html')"
   ]
  },
  {
   "cell_type": "code",
   "execution_count": 15,
   "metadata": {
    "code_folding": [
     0
    ]
   },
   "outputs": [
    {
     "name": "stdout",
     "output_type": "stream",
     "text": [
      "CPU times: user 43.3 s, sys: 238 ms, total: 43.6 s\n",
      "Wall time: 1min 56s\n"
     ]
    }
   ],
   "source": [
    "%%time\n",
    "lda_model3 = models.ldamodel.LdaModel(corpus=corpus, id2word=dictionary, num_topics=30, passes=10)\n",
    "lda_model3.save('tweet3.model')\n",
    "visual3 = gensimvis.prepare(lda_model3, corpus, dictionary)\n",
    "pyLDAvis.save_html(visual3, 'tweetLDA3.html')"
   ]
  },
  {
   "cell_type": "code",
   "execution_count": 16,
   "metadata": {
    "code_folding": [
     0
    ]
   },
   "outputs": [
    {
     "name": "stdout",
     "output_type": "stream",
     "text": [
      "CPU times: user 44.4 s, sys: 268 ms, total: 44.7 s\n",
      "Wall time: 2min 10s\n"
     ]
    }
   ],
   "source": [
    "%%time\n",
    "lda_model4 = models.ldamodel.LdaModel(corpus=corpus, id2word=dictionary, num_topics=30, passes=10)\n",
    "lda_model4.save('tweet4.model')\n",
    "visual4 = gensimvis.prepare(lda_model4, corpus, dictionary)\n",
    "pyLDAvis.save_html(visual4, 'tweetLDA4.html')"
   ]
  },
  {
   "cell_type": "code",
   "execution_count": 17,
   "metadata": {
    "code_folding": [
     0
    ]
   },
   "outputs": [
    {
     "name": "stdout",
     "output_type": "stream",
     "text": [
      "CPU times: user 45 s, sys: 319 ms, total: 45.3 s\n",
      "Wall time: 2min 5s\n"
     ]
    }
   ],
   "source": [
    "%%time\n",
    "lda_model5 = models.ldamodel.LdaModel(corpus=corpus, id2word=dictionary, num_topics=30, passes=10, random_state=20)\n",
    "lda_model5.save('tweet5.model')\n",
    "visual5 = gensimvis.prepare(lda_model5, corpus, dictionary)\n",
    "pyLDAvis.save_html(visual5, 'tweetLDA5.html')"
   ]
  },
  {
   "cell_type": "code",
   "execution_count": 18,
   "metadata": {
    "code_folding": [
     0
    ]
   },
   "outputs": [
    {
     "name": "stdout",
     "output_type": "stream",
     "text": [
      "CPU times: user 45 s, sys: 303 ms, total: 45.3 s\n",
      "Wall time: 2min\n"
     ]
    }
   ],
   "source": [
    "%%time\n",
    "lda_model6 = models.ldamodel.LdaModel(corpus=corpus, id2word=dictionary, num_topics=30, passes=10, random_state=40)\n",
    "lda_model6.save('tweet6.model')\n",
    "visual6 = gensimvis.prepare(lda_model6, corpus, dictionary)\n",
    "pyLDAvis.save_html(visual6, 'tweetLDA6.html')"
   ]
  },
  {
   "cell_type": "code",
   "execution_count": 19,
   "metadata": {
    "code_folding": [
     0
    ]
   },
   "outputs": [
    {
     "name": "stdout",
     "output_type": "stream",
     "text": [
      "CPU times: user 42.8 s, sys: 160 ms, total: 43 s\n",
      "Wall time: 1min 56s\n"
     ]
    }
   ],
   "source": [
    "%%time\n",
    "lda_model7 = models.ldamodel.LdaModel(corpus=corpus, id2word=dictionary, num_topics=30, passes=10, random_state=100)\n",
    "lda_model7.save('tweet7.model')\n",
    "visual7 = gensimvis.prepare(lda_model7, corpus, dictionary)\n",
    "pyLDAvis.save_html(visual7, 'tweetLDA7.html')"
   ]
  },
  {
   "cell_type": "code",
   "execution_count": 20,
   "metadata": {
    "code_folding": [
     0
    ]
   },
   "outputs": [
    {
     "name": "stdout",
     "output_type": "stream",
     "text": [
      "CPU times: user 45.6 s, sys: 370 ms, total: 46 s\n",
      "Wall time: 2min 2s\n"
     ]
    }
   ],
   "source": [
    "%%time\n",
    "lda_model8 = models.ldamodel.LdaModel(corpus=corpus, id2word=dictionary, num_topics=30, passes=10, random_state=200)\n",
    "lda_model8.save('tweet8.model')\n",
    "visual8 = gensimvis.prepare(lda_model8, corpus, dictionary)\n",
    "pyLDAvis.save_html(visual8, 'tweetLDA8.html')"
   ]
  },
  {
   "cell_type": "code",
   "execution_count": 21,
   "metadata": {
    "code_folding": [
     0
    ]
   },
   "outputs": [
    {
     "name": "stdout",
     "output_type": "stream",
     "text": [
      "CPU times: user 42.7 s, sys: 144 ms, total: 42.9 s\n",
      "Wall time: 1min 53s\n"
     ]
    }
   ],
   "source": [
    "%%time\n",
    "lda_model9 = models.ldamodel.LdaModel(corpus=corpus, id2word=dictionary, num_topics=30, passes=10, random_state=300)\n",
    "lda_model9.save('tweet9.model')\n",
    "visual9 = gensimvis.prepare(lda_model9, corpus, dictionary)\n",
    "pyLDAvis.save_html(visual9, 'tweetLDA9.html')"
   ]
  },
  {
   "cell_type": "code",
   "execution_count": 22,
   "metadata": {
    "code_folding": [
     0
    ]
   },
   "outputs": [
    {
     "name": "stdout",
     "output_type": "stream",
     "text": [
      "CPU times: user 45.3 s, sys: 425 ms, total: 45.7 s\n",
      "Wall time: 2min 8s\n"
     ]
    }
   ],
   "source": [
    "%%time\n",
    "lda_model10 = models.ldamodel.LdaModel(corpus=corpus, id2word=dictionary, num_topics=30, passes=10, random_state=400)\n",
    "lda_model10.save('tweet10.model')\n",
    "visual10 = gensimvis.prepare(lda_model10, corpus, dictionary)\n",
    "pyLDAvis.save_html(visual10, 'tweetLDA10.html')"
   ]
  },
  {
   "cell_type": "code",
   "execution_count": 23,
   "metadata": {
    "code_folding": [
     0
    ]
   },
   "outputs": [
    {
     "name": "stdout",
     "output_type": "stream",
     "text": [
      "CPU times: user 44 s, sys: 371 ms, total: 44.4 s\n",
      "Wall time: 2min 18s\n"
     ]
    }
   ],
   "source": [
    "%%time\n",
    "lda_model11 = models.ldamodel.LdaModel(corpus=corpus, id2word=dictionary, num_topics=30, passes=10, random_state=500)\n",
    "lda_model11.save('tweet11.model')\n",
    "visual11 = gensimvis.prepare(lda_model11, corpus, dictionary)\n",
    "pyLDAvis.save_html(visual11, 'tweetLDA11.html')"
   ]
  },
  {
   "cell_type": "code",
   "execution_count": 24,
   "metadata": {
    "code_folding": [
     0
    ]
   },
   "outputs": [
    {
     "name": "stdout",
     "output_type": "stream",
     "text": [
      "CPU times: user 43.5 s, sys: 232 ms, total: 43.7 s\n",
      "Wall time: 1min 56s\n"
     ]
    }
   ],
   "source": [
    "%%time\n",
    "lda_model12 = models.ldamodel.LdaModel(corpus=corpus, id2word=dictionary, num_topics=30, passes=10, random_state=600)\n",
    "lda_model12.save('tweet12.model')\n",
    "visual12 = gensimvis.prepare(lda_model12, corpus, dictionary)\n",
    "pyLDAvis.save_html(visual12, 'tweetLDA12.html')"
   ]
  },
  {
   "cell_type": "markdown",
   "metadata": {},
   "source": [
    "- The trade topic by tweet8.model is pretty good, while the economic topic by tweet5.model is pretty good. The combination of tweet11.model is very good. So use tweet11.model. And combine trade and economy together.\n",
    "- In the plot, topic 3 is trade relevant, and topic 8 is economy relevant. In the model, topic 29 is trade relevant, and topic 19 is economy relevant."
   ]
  },
  {
   "cell_type": "code",
   "execution_count": 25,
   "metadata": {
    "scrolled": true
   },
   "outputs": [
    {
     "name": "stdout",
     "output_type": "stream",
     "text": [
      "Topic: 0 \n",
      "Words: 0.042*\"tonight\" + 0.032*\"man\" + 0.030*\"enjoy\" + 0.025*\"interviewed\" + 0.024*\"presidential\" + 0.024*\"time\" + 0.024*\"isi\" + 0.023*\"veteran\" + 0.022*\"congressman\" + 0.021*\"bob\"\n",
      "Topic: 1 \n",
      "Words: 0.072*\"russia\" + 0.064*\"collusion\" + 0.046*\"hillary\" + 0.046*\"campaign\" + 0.041*\"russian\" + 0.036*\"crooked\" + 0.034*\"democrat\" + 0.029*\"election\" + 0.027*\"amp\" + 0.019*\"the\"\n",
      "Topic: 2 \n",
      "Words: 0.053*\"congratulation\" + 0.047*\"bill\" + 0.040*\"great\" + 0.034*\"work\" + 0.026*\"friend\" + 0.026*\"proud\" + 0.024*\"member\" + 0.023*\"highest\" + 0.022*\"reform\" + 0.020*\"kim\"\n",
      "Topic: 3 \n",
      "Words: 0.101*\"american\" + 0.049*\"people\" + 0.036*\"life\" + 0.033*\"the\" + 0.032*\"amp\" + 0.030*\"true\" + 0.026*\"family\" + 0.020*\"statement\" + 0.018*\"energy\" + 0.017*\"making\"\n",
      "Topic: 4 \n",
      "Words: 0.075*\"history\" + 0.045*\"john\" + 0.036*\"the\" + 0.028*\"greatest\" + 0.021*\"biggest\" + 0.021*\"chuck\" + 0.021*\"word\" + 0.018*\"read\" + 0.016*\"more\" + 0.015*\"perhaps\"\n",
      "Topic: 5 \n",
      "Words: 0.204*\"trump\" + 0.172*\"president\" + 0.064*\"obama\" + 0.050*\"clinton\" + 0.049*\"administration\" + 0.032*\"donald\" + 0.018*\"official\" + 0.016*\"another\" + 0.012*\"mainstream\" + 0.012*\"stated\"\n",
      "Topic: 6 \n",
      "Words: 0.032*\"democrat\" + 0.032*\"senate\" + 0.024*\"safety\" + 0.023*\"the\" + 0.022*\"obstruction\" + 0.019*\"house\" + 0.018*\"this\" + 0.017*\"find\" + 0.016*\"schiff\" + 0.016*\"intelligence\"\n",
      "Topic: 7 \n",
      "Words: 0.049*\"crime\" + 0.046*\"strong\" + 0.043*\"military\" + 0.034*\"great\" + 0.034*\"senator\" + 0.034*\"border\" + 0.033*\"amp\" + 0.033*\"need\" + 0.030*\"love\" + 0.028*\"full\"\n",
      "Topic: 8 \n",
      "Words: 0.193*\"state\" + 0.120*\"united\" + 0.033*\"office\" + 0.027*\"decision\" + 0.020*\"dnc\" + 0.020*\"department\" + 0.018*\"local\" + 0.018*\"wonderful\" + 0.018*\"great\" + 0.017*\"president\"\n",
      "Topic: 9 \n",
      "Words: 0.033*\"the\" + 0.031*\"amp\" + 0.026*\"nothing\" + 0.025*\"bad\" + 0.022*\"low\" + 0.020*\"rate\" + 0.020*\"even\" + 0.017*\"would\" + 0.016*\"little\" + 0.016*\"democrat\"\n",
      "Topic: 10 \n",
      "Words: 0.094*\"border\" + 0.057*\"security\" + 0.051*\"wall\" + 0.032*\"immigration\" + 0.030*\"democrat\" + 0.026*\"the\" + 0.025*\"illegal\" + 0.024*\"national\" + 0.024*\"country\" + 0.020*\"must\"\n",
      "Topic: 11 \n",
      "Words: 0.063*\"must\" + 0.053*\"together\" + 0.050*\"law\" + 0.037*\"drug\" + 0.029*\"the\" + 0.027*\"stop\" + 0.026*\"massive\" + 0.024*\"mexico\" + 0.024*\"enforcement\" + 0.016*\"rule\"\n",
      "Topic: 12 \n",
      "Words: 0.044*\"show\" + 0.032*\"melania\" + 0.029*\"morning\" + 0.026*\"talk\" + 0.026*\"wow\" + 0.024*\"really\" + 0.024*\"dossier\" + 0.023*\"special\" + 0.023*\"paid\" + 0.020*\"told\"\n",
      "Topic: 13 \n",
      "Words: 0.083*\"last\" + 0.051*\"night\" + 0.039*\"join\" + 0.037*\"team\" + 0.034*\"live\" + 0.028*\"tomorrow\" + 0.020*\"crisis\" + 0.019*\"rally\" + 0.018*\"2017\" + 0.016*\"week\"\n",
      "Topic: 14 \n",
      "Words: 0.074*\"north\" + 0.062*\"just\" + 0.034*\"looking\" + 0.031*\"everyone\" + 0.031*\"see\" + 0.031*\"hurricane\" + 0.029*\"south\" + 0.027*\"florida\" + 0.024*\"soon\" + 0.024*\"carolina\"\n",
      "Topic: 15 \n",
      "Words: 0.090*\"tax\" + 0.066*\"vote\" + 0.066*\"win\" + 0.062*\"big\" + 0.058*\"cut\" + 0.046*\"election\" + 0.043*\"republican\" + 0.032*\"great\" + 0.031*\"get\" + 0.017*\"plan\"\n",
      "Topic: 16 \n",
      "Words: 0.047*\"amp\" + 0.033*\"business\" + 0.033*\"like\" + 0.032*\"put\" + 0.029*\"thought\" + 0.026*\"way\" + 0.023*\"prayer\" + 0.022*\"even\" + 0.021*\"much\" + 0.020*\"better\"\n",
      "Topic: 17 \n",
      "Words: 0.064*\"fbi\" + 0.056*\"hunt\" + 0.056*\"witch\" + 0.048*\"report\" + 0.043*\"mueller\" + 0.039*\"comey\" + 0.031*\"why\" + 0.025*\"james\" + 0.016*\"information\" + 0.016*\"phony\"\n",
      "Topic: 18 \n",
      "Words: 0.084*\"house\" + 0.059*\"white\" + 0.046*\"party\" + 0.043*\"look\" + 0.036*\"the\" + 0.035*\"democrat\" + 0.032*\"forward\" + 0.029*\"republican\" + 0.029*\"left\" + 0.020*\"speech\"\n",
      "Topic: 19 \n",
      "Words: 0.061*\"ever\" + 0.047*\"economy\" + 0.040*\"number\" + 0.037*\"best\" + 0.026*\"welcome\" + 0.026*\"since\" + 0.024*\"the\" + 0.022*\"economic\" + 0.022*\"year\" + 0.022*\"poll\"\n",
      "Topic: 20 \n",
      "Words: 0.121*\"news\" + 0.105*\"fake\" + 0.070*\"medium\" + 0.055*\"the\" + 0.040*\"story\" + 0.039*\"new\" + 0.021*\"time\" + 0.018*\"they\" + 0.018*\"york\" + 0.015*\"failing\"\n",
      "Topic: 21 \n",
      "Words: 0.055*\"washington\" + 0.026*\"build\" + 0.026*\"run\" + 0.026*\"france\" + 0.025*\"post\" + 0.025*\"fighting\" + 0.024*\"back\" + 0.022*\"gave\" + 0.019*\"major\" + 0.018*\"large\"\n",
      "Topic: 22 \n",
      "Words: 0.163*\"thank\" + 0.075*\"you\" + 0.032*\"watch\" + 0.032*\"rating\" + 0.029*\"cnn\" + 0.022*\"nice\" + 0.022*\"approval\" + 0.018*\"love\" + 0.017*\"dead\" + 0.016*\"happening\"\n",
      "Topic: 23 \n",
      "Words: 0.076*\"year\" + 0.055*\"many\" + 0.036*\"people\" + 0.035*\"amp\" + 0.026*\"market\" + 0.026*\"record\" + 0.025*\"high\" + 0.021*\"million\" + 0.021*\"stock\" + 0.017*\"two\"\n",
      "Topic: 24 \n",
      "Words: 0.138*\"job\" + 0.132*\"great\" + 0.085*\"america\" + 0.057*\"make\" + 0.048*\"working\" + 0.044*\"hard\" + 0.041*\"again\" + 0.031*\"first\" + 0.023*\"done\" + 0.021*\"thank\"\n",
      "Topic: 25 \n",
      "Words: 0.101*\"today\" + 0.064*\"great\" + 0.062*\"day\" + 0.057*\"honor\" + 0.042*\"nation\" + 0.036*\"woman\" + 0.034*\"happy\" + 0.029*\"america\" + 0.022*\"god\" + 0.022*\"men\"\n",
      "Topic: 26 \n",
      "Words: 0.081*\"meeting\" + 0.050*\"great\" + 0.043*\"court\" + 0.033*\"prime\" + 0.033*\"minister\" + 0.030*\"leader\" + 0.026*\"future\" + 0.022*\"supreme\" + 0.020*\"many\" + 0.019*\"judge\"\n",
      "Topic: 27 \n",
      "Words: 0.042*\"want\" + 0.024*\"know\" + 0.023*\"democrat\" + 0.022*\"back\" + 0.021*\"people\" + 0.021*\"would\" + 0.021*\"company\" + 0.020*\"take\" + 0.019*\"country\" + 0.018*\"get\"\n",
      "Topic: 28 \n",
      "Words: 0.064*\"great\" + 0.058*\"will\" + 0.047*\"healthcare\" + 0.040*\"amp\" + 0.031*\"texas\" + 0.028*\"big\" + 0.023*\"california\" + 0.023*\"governor\" + 0.021*\"crowd\" + 0.019*\"amazing\"\n",
      "Topic: 29 \n",
      "Words: 0.062*\"deal\" + 0.058*\"china\" + 0.056*\"trade\" + 0.038*\"billion\" + 0.031*\"dollar\" + 0.028*\"tariff\" + 0.024*\"country\" + 0.022*\"year\" + 0.017*\"iran\" + 0.017*\"the\"\n"
     ]
    }
   ],
   "source": [
    "# find the corresponding topic number\n",
    "for idx, topic in lda_model11.print_topics(-1):\n",
    "    print('Topic: {} \\nWords: {}'.format(idx, topic))"
   ]
  },
  {
   "cell_type": "code",
   "execution_count": 26,
   "metadata": {},
   "outputs": [],
   "source": [
    "def format_topics_sentences(ldamodel, corpus=corpus, texts=tweet['text']):\n",
    "    # Init output\n",
    "    sent_topics_df = pd.DataFrame()\n",
    "\n",
    "    # Get main topic in each document\n",
    "    for i, row in enumerate(ldamodel[corpus]):\n",
    "        row = sorted(row, key=lambda x: (x[1]), reverse=True)\n",
    "        # Get the Dominant topic, Perc Contribution and Keywords for each document\n",
    "        for j, (topic_num, prop_topic) in enumerate(row):\n",
    "            if j == 0:  # => dominant topic\n",
    "                wp = ldamodel.show_topic(topic_num)\n",
    "                topic_keywords = \", \".join([word for word, prop in wp])\n",
    "                sent_topics_df = sent_topics_df.append(pd.Series([int(topic_num), round(prop_topic,4), topic_keywords]), ignore_index=True)\n",
    "            else:\n",
    "                break\n",
    "    sent_topics_df.columns = ['Dominant_Topic', 'Perc_Contribution', 'Topic_Keywords']\n",
    "\n",
    "    # Add original text to the end of the output\n",
    "    contents = pd.Series(texts)\n",
    "    sent_topics_df = pd.concat([sent_topics_df, contents], axis=1)\n",
    "    return(sent_topics_df)"
   ]
  },
  {
   "cell_type": "code",
   "execution_count": 29,
   "metadata": {},
   "outputs": [],
   "source": [
    "df_topic_sents_keywords = format_topics_sentences(ldamodel=lda_model11, corpus=corpus, texts=tweet['text'])\n",
    "df_dominant_topic = df_topic_sents_keywords.reset_index()\n",
    "df_dominant_topic.columns = ['Document_No', 'Dominant_Topic', 'Topic_Perc_Contrib', 'Keywords', 'Text']"
   ]
  },
  {
   "cell_type": "code",
   "execution_count": 45,
   "metadata": {
    "scrolled": true
   },
   "outputs": [],
   "source": [
    "idx = df_dominant_topic['Document_No'][(df_dominant_topic.Dominant_Topic == 29.0) | (df_dominant_topic.Dominant_Topic == 19.0)]\n",
    "trade_economy = tweet.iloc[idx]"
   ]
  },
  {
   "cell_type": "markdown",
   "metadata": {},
   "source": [
    "## Step 3: Sentiment Analysis\n",
    "\n",
    "References: \n",
    "- [Trump, Tweets, and Trade](https://towardsdatascience.com/trump-tweets-and-trade-96ac157ef082)\n",
    "- [Simplifying Sentiment Analysis using VADER in Python](https://medium.com/analytics-vidhya/simplifying-social-media-sentiment-analysis-using-vader-in-python-f9e6ec6fc52f).\n",
    "\n",
    "Note:\n",
    "- Positive Sentiment Signal\n",
    "    - Signal occurs before market opens: buy at open and sell at close\n",
    "    - Signal occurs during market hours: buy at close and sell at tomorrow’s close\n",
    "    - Signal occurs after hours: buy at tomorrow’s open and sell at tomorrow’s close\n",
    "- Negative Sentiment Signal\n",
    "    - Signal occurs before market opens: sell at open and return to 100% SPY exposure at close\n",
    "    - Signal occurs during market hours: sell at close and return to 100% SPY exposure at tomorrow’s close\n",
    "    - Signal occurs after hours: sell at tomorrow’s open and return to 100% SPY exposure at tomorrow’s close"
   ]
  },
  {
   "cell_type": "code",
   "execution_count": 47,
   "metadata": {},
   "outputs": [],
   "source": [
    "from nltk.sentiment.vader import SentimentIntensityAnalyzer\n",
    "analyser = SentimentIntensityAnalyzer()\n",
    "trade_economy['sentiment'] = trade_economy['tokens'].apply(lambda x: analyser.polarity_scores(' '.join(x))['compound'])"
   ]
  },
  {
   "cell_type": "code",
   "execution_count": 48,
   "metadata": {
    "scrolled": true
   },
   "outputs": [],
   "source": [
    "trade_economy.to_csv('trade-economy-tweet.csv', index=False)"
   ]
  },
  {
   "cell_type": "markdown",
   "metadata": {},
   "source": [
    "## Step 4: Time series plots\n",
    "\n",
    "References:\n",
    "- [Mining Twitter Data with Python](https://marcobonzanini.com/2015/04/01/mining-twitter-data-with-python-part-5-data-visualisation-basics/)\n",
    "\n",
    "If we organise the frequencies into temporal buckets, we could observe how Twitter users react to real-time events."
   ]
  },
  {
   "cell_type": "code",
   "execution_count": 52,
   "metadata": {},
   "outputs": [],
   "source": [
    "## plot for trade-economy data\n",
    "dates = []\n",
    "# f is the file pointer to the JSON data set\n",
    "for i in range(trade_economy.shape[0]):\n",
    "    tweet = trade_economy.iloc[i]\n",
    "    dates.append(tweet['created_at'])\n",
    "\n",
    "# a list of \"1\" to count the hashtags\n",
    "ones = [1]*len(dates)\n",
    "# the index of the series\n",
    "idx = pd.DatetimeIndex(dates)\n",
    "# the actual series (at series of 1s for the moment)\n",
    "freq = pd.Series(ones, index=idx)\n",
    " \n",
    "# Resampling / bucketing\n",
    "per_day = freq.resample('D').sum().fillna(0)"
   ]
  },
  {
   "cell_type": "code",
   "execution_count": 53,
   "metadata": {},
   "outputs": [
    {
     "data": {
      "text/plain": [
       "[<matplotlib.lines.Line2D at 0x1a23745c18>]"
      ]
     },
     "execution_count": 53,
     "metadata": {},
     "output_type": "execute_result"
    },
    {
     "data": {
      "image/png": "[encoded data removed]",
      "text/plain": [
       "<Figure size 720x432 with 1 Axes>"
      ]
     },
     "metadata": {
      "needs_background": "light"
     },
     "output_type": "display_data"
    }
   ],
   "source": [
    "plt.figure(figsize=(10, 6))\n",
    "plt.plot(per_day)"
   ]
  },
  {
   "cell_type": "code",
   "execution_count": null,
   "metadata": {},
   "outputs": [],
   "source": []
  }
 ],
 "metadata": {
  "kernelspec": {
   "display_name": "Python 3",
   "language": "python",
   "name": "python3"
  },
  "language_info": {
   "codemirror_mode": {
    "name": "ipython",
    "version": 3
   },
   "file_extension": ".py",
   "mimetype": "text/x-python",
   "name": "python",
   "nbconvert_exporter": "python",
   "pygments_lexer": "ipython3",
   "version": "3.7.3"
  }
 },
 "nbformat": 4,
 "nbformat_minor": 2
}
