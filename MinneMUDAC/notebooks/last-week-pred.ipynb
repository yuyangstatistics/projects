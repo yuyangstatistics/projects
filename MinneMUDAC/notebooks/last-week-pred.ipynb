{
 "cells": [
  {
   "cell_type": "code",
   "execution_count": 11,
   "metadata": {},
   "outputs": [],
   "source": [
    "import pandas as pd\n",
    "import warnings\n",
    "warnings.filterwarnings('ignore')\n",
    "import matplotlib.pyplot as plt"
   ]
  },
  {
   "cell_type": "code",
   "execution_count": 12,
   "metadata": {},
   "outputs": [],
   "source": [
    "from sklearn import preprocessing as pp\n",
    "scaler1 = pp.MinMaxScaler(feature_range=(0, 1))\n",
    "y = df.soybean.values.reshape(len(df.soybean.values), 1)\n",
    "scaler1 = scaler1.fit(y)\n",
    "y = scaler1.transform(y)"
   ]
  },
  {
   "cell_type": "code",
   "execution_count": 13,
   "metadata": {},
   "outputs": [
    {
     "data": {
      "text/plain": [
       "[<matplotlib.lines.Line2D at 0x114e33d30>]"
      ]
     },
     "execution_count": 13,
     "metadata": {},
     "output_type": "execute_result"
    },
    {
     "data": {
      "image/png": "[encoded data removed]",
      "text/plain": [
       "<Figure size 432x288 with 1 Axes>"
      ]
     },
     "metadata": {
      "needs_background": "light"
     },
     "output_type": "display_data"
    }
   ],
   "source": [
    "plt.plot(y)"
   ]
  },
  {
   "cell_type": "markdown",
   "metadata": {},
   "source": [
    "## March2020"
   ]
  },
  {
   "cell_type": "code",
   "execution_count": 14,
   "metadata": {},
   "outputs": [],
   "source": [
    "## data preprocessing\n",
    "data = pd.read_csv('spooky13_no_weekends.csv')\n",
    "data=data.rename(columns = {'Unnamed: 0':'date'})\n",
    "data = data.set_index('date')\n",
    "\n",
    "df = data[pd.notnull(data['close_march2020_soybean'])].dropna(axis='columns', how='all')\n",
    "df = df.rename(columns = {'close_march2020_soybean':'soybean', 'close_march2020_corn': 'corn'})\n",
    "\n",
    "# fillna for tariff, trade_tweets, and economy_tweets\n",
    "for col in ['tariff', 'tweets']:\n",
    "    df[col] = df[col].fillna(0)\n",
    "\n",
    "# remove missing columns\n",
    "rm_list = df.columns[df.isnull().any()]\n",
    "df = df.drop(columns = rm_list)\n",
    "\n",
    "# get rid of the last five rows\n",
    "df = df.drop(df.index[-5:])"
   ]
  },
  {
   "cell_type": "code",
   "execution_count": 15,
   "metadata": {},
   "outputs": [],
   "source": [
    "## get the shifted datasets\n",
    "# df_base is the base dataframe\n",
    "df_lag = [None]*5\n",
    "append_list = ['2019-11-04', '2019-11-05', '2019-11-06', '2019-11-07', '2019-11-08']\n",
    "df_base = df.copy()\n",
    "for i in range(5):\n",
    "    df_lag[i] = df_base.copy().append(pd.DataFrame(index=append_list[:(i+1)]))\n",
    "    for col in df_lag[i].columns:\n",
    "        df_lag[i][col] = df_lag[i][col].shift(i+1)\n",
    "    df_lag[i]['soybean'] = df_base['soybean']\n",
    "    df_lag[i] = df_lag[i].drop(df_lag[i].index[:(i+1)])"
   ]
  },
  {
   "cell_type": "code",
   "execution_count": 26,
   "metadata": {},
   "outputs": [],
   "source": [
    "df5_lag = [None]*5\n",
    "for i in range(5):\n",
    "    df5_lag[i] = df_lag[i].drop(df_lag[i].index[-5:])"
   ]
  },
  {
   "cell_type": "code",
   "execution_count": 34,
   "metadata": {},
   "outputs": [],
   "source": [
    "## functions to get cv results and prediction\n",
    "from sklearn.linear_model import LinearRegression\n",
    "from sklearn.linear_model import LassoCV, RidgeCV\n",
    "from sklearn.model_selection import TimeSeriesSplit \n",
    "from xgboost import XGBRegressor \n",
    "from xgboost import plot_importance\n",
    "from sklearn.preprocessing import StandardScaler\n",
    "tscv = TimeSeriesSplit(n_splits=5)\n",
    "\n",
    "lr = LinearRegression()\n",
    "ridge = RidgeCV(cv=tscv)\n",
    "lasso = LassoCV(cv=tscv)\n",
    "xgb = XGBRegressor(verbosity=0)\n",
    "\n",
    "## prediction\n",
    "def pred(lag, model):\n",
    "    scaler = StandardScaler()\n",
    "\n",
    "    y_train = df5_lag[lag-1].drop(df5_lag[lag-1].index[-lag:])['soybean']\n",
    "    X_train = df5_lag[lag-1].drop(df5_lag[lag-1].index[-lag:]).drop(['soybean'], axis=1)\n",
    "\n",
    "    X_test = df5_lag[lag-1].drop(['soybean'], axis=1)\n",
    "\n",
    "    X_train_scaled = scaler.fit_transform(X_train)\n",
    "    X_test_scaled = scaler.transform(X_test)\n",
    "\n",
    "    # fit model\n",
    "    mdl = model.fit(X_train_scaled, y_train)\n",
    "\n",
    "    # predict using model\n",
    "    preds = mdl.predict(X_test_scaled)[-1]\n",
    "    return preds"
   ]
  },
  {
   "cell_type": "code",
   "execution_count": 35,
   "metadata": {},
   "outputs": [
    {
     "name": "stdout",
     "output_type": "stream",
     "text": [
      "[932.0632054874144, 947.974, 928.44806, 936.6511727550891, 931.5302493618976]\n"
     ]
    }
   ],
   "source": [
    "# prediction for 10-28 -- 11-01\n",
    "lasso = LassoCV(cv=tscv)\n",
    "xgb = XGBRegressor(verbosity=0)\n",
    "prediction = [pred(1, lasso), pred(2, xgb), pred(3, xgb), pred(4, lasso), pred(5, lasso)]\n",
    "print(prediction)"
   ]
  },
  {
   "cell_type": "markdown",
   "metadata": {},
   "source": [
    "## May2020"
   ]
  },
  {
   "cell_type": "code",
   "execution_count": 38,
   "metadata": {},
   "outputs": [],
   "source": [
    "## data preprocessing\n",
    "data = pd.read_csv('spooky13_no_weekends.csv')\n",
    "data=data.rename(columns = {'Unnamed: 0':'date'})\n",
    "data = data.set_index('date')\n",
    "\n",
    "df = data[pd.notnull(data['close_may2020_soybean'])].dropna(axis='columns', how='all')\n",
    "df = df.rename(columns = {'close_may2020_soybean':'soybean', 'close_may2020_corn': 'corn'})\n",
    "\n",
    "# fillna for tariff, trade_tweets, and economy_tweets\n",
    "for col in ['tariff', 'tweets']:\n",
    "    df[col] = df[col].fillna(0)\n",
    "\n",
    "# remove missing columns\n",
    "rm_list = df.columns[df.isnull().any()]\n",
    "df = df.drop(columns = rm_list)\n",
    "\n",
    "# get rid of the last five rows\n",
    "df = df.drop(df.index[-5:])\n",
    "\n",
    "\n",
    "## get the shifted datasets\n",
    "# df_base is the base dataframe\n",
    "df_lag = [None]*5\n",
    "append_list = ['2019-11-04', '2019-11-05', '2019-11-06', '2019-11-07', '2019-11-08']\n",
    "df_base = df.copy()\n",
    "for i in range(5):\n",
    "    df_lag[i] = df_base.copy().append(pd.DataFrame(index=append_list[:(i+1)]))\n",
    "    for col in df_lag[i].columns:\n",
    "        df_lag[i][col] = df_lag[i][col].shift(i+1)\n",
    "    df_lag[i]['soybean'] = df_base['soybean']\n",
    "    df_lag[i] = df_lag[i].drop(df_lag[i].index[:(i+1)])\n",
    "    \n",
    "df5_lag = [None]*5\n",
    "for i in range(5):\n",
    "    df5_lag[i] = df_lag[i].drop(df_lag[i].index[-5:])"
   ]
  },
  {
   "cell_type": "code",
   "execution_count": 39,
   "metadata": {},
   "outputs": [
    {
     "name": "stdout",
     "output_type": "stream",
     "text": [
      "[953.399926882251, 954.717, 945.4929, 952.6924939423069, 953.3720812035084]\n"
     ]
    }
   ],
   "source": [
    "# prediction for 10-28 -- 11-01\n",
    "lasso = LassoCV(cv=tscv)\n",
    "xgb = XGBRegressor(verbosity=0)\n",
    "prediction = [pred(1, lasso), pred(2, xgb), pred(3, xgb), pred(4, lasso), pred(5, lasso)]\n",
    "print(prediction)"
   ]
  },
  {
   "cell_type": "markdown",
   "metadata": {},
   "source": [
    "## July 2020"
   ]
  },
  {
   "cell_type": "code",
   "execution_count": 40,
   "metadata": {},
   "outputs": [],
   "source": [
    "## data preprocessing\n",
    "data = pd.read_csv('spooky13_no_weekends.csv')\n",
    "data=data.rename(columns = {'Unnamed: 0':'date'})\n",
    "data = data.set_index('date')\n",
    "\n",
    "df = data[pd.notnull(data['close_july2020_soybean'])].dropna(axis='columns', how='all')\n",
    "df = df.rename(columns = {'close_july2020_soybean':'soybean', 'close_july2020_corn': 'corn'})\n",
    "\n",
    "# fillna for tariff, trade_tweets, and economy_tweets\n",
    "for col in ['tariff', 'tweets']:\n",
    "    df[col] = df[col].fillna(0)\n",
    "\n",
    "# remove missing columns\n",
    "rm_list = df.columns[df.isnull().any()]\n",
    "df = df.drop(columns = rm_list)\n",
    "\n",
    "# get rid of the last five rows\n",
    "df = df.drop(df.index[-5:])\n",
    "\n",
    "\n",
    "## get the shifted datasets\n",
    "# df_base is the base dataframe\n",
    "df_lag = [None]*5\n",
    "append_list = ['2019-11-04', '2019-11-05', '2019-11-06', '2019-11-07', '2019-11-08']\n",
    "df_base = df.copy()\n",
    "for i in range(5):\n",
    "    df_lag[i] = df_base.copy().append(pd.DataFrame(index=append_list[:(i+1)]))\n",
    "    for col in df_lag[i].columns:\n",
    "        df_lag[i][col] = df_lag[i][col].shift(i+1)\n",
    "    df_lag[i]['soybean'] = df_base['soybean']\n",
    "    df_lag[i] = df_lag[i].drop(df_lag[i].index[:(i+1)])\n",
    "    \n",
    "df5_lag = [None]*5\n",
    "for i in range(5):\n",
    "    df5_lag[i] = df_lag[i].drop(df_lag[i].index[-5:])"
   ]
  },
  {
   "cell_type": "code",
   "execution_count": 41,
   "metadata": {},
   "outputs": [
    {
     "name": "stdout",
     "output_type": "stream",
     "text": [
      "[964.2816323827392, 966.88257, 951.6621, 963.0414858932292, 962.7348681294587]\n"
     ]
    }
   ],
   "source": [
    "# prediction for 10-28 -- 11-01\n",
    "lasso = LassoCV(cv=tscv)\n",
    "xgb = XGBRegressor(verbosity=0)\n",
    "prediction = [pred(1, lasso), pred(2, xgb), pred(3, xgb), pred(4, lasso), pred(5, lasso)]\n",
    "print(prediction)"
   ]
  },
  {
   "cell_type": "code",
   "execution_count": null,
   "metadata": {},
   "outputs": [],
   "source": []
  }
 ],
 "metadata": {
  "kernelspec": {
   "display_name": "Python 3",
   "language": "python",
   "name": "python3"
  },
  "language_info": {
   "codemirror_mode": {
    "name": "ipython",
    "version": 3
   },
   "file_extension": ".py",
   "mimetype": "text/x-python",
   "name": "python",
   "nbconvert_exporter": "python",
   "pygments_lexer": "ipython3",
   "version": "3.7.3"
  }
 },
 "nbformat": 4,
 "nbformat_minor": 2
}
