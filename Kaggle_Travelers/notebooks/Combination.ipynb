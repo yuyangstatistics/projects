{
 "cells": [
  {
   "cell_type": "markdown",
   "metadata": {},
   "source": [
    "This notebook is used to combine the results from xgboost and lightgbm."
   ]
  },
  {
   "cell_type": "code",
   "execution_count": 2,
   "metadata": {},
   "outputs": [],
   "source": [
    "import pandas as pd"
   ]
  },
  {
   "cell_type": "code",
   "execution_count": 3,
   "metadata": {},
   "outputs": [],
   "source": [
    "lgb_pred = pd.read_csv('../data/predictions/prediction_lightgbm.csv')\n",
    "xgb_pred = pd.read_csv('../data/predictions/prediction_xgboost.csv')\n",
    "com_pred = pd.merge(lgb_pred, xgb_pred, on = \"claim_number\", how = \"left\")\n",
    "com_pred['fraud'] = 0.6 * com_pred['fraud_x'] + 0.4 * com_pred['fraud_y']\n",
    "com_pred.drop(['fraud_x', 'fraud_y'], axis = 1, inplace = True)\n",
    "com_pred = com_pred.set_index('claim_number')\n",
    "com_pred.to_csv('../data/predictions/combined_predictions.csv')"
   ]
  }
 ],
 "metadata": {
  "kernelspec": {
   "display_name": "Python 3",
   "language": "python",
   "name": "python3"
  },
  "language_info": {
   "codemirror_mode": {
    "name": "ipython",
    "version": 3
   },
   "file_extension": ".py",
   "mimetype": "text/x-python",
   "name": "python",
   "nbconvert_exporter": "python",
   "pygments_lexer": "ipython3",
   "version": "3.6.5"
  }
 },
 "nbformat": 4,
 "nbformat_minor": 2
}
