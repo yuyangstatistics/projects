{
 "cells": [
  {
   "cell_type": "markdown",
   "metadata": {},
   "source": [
    "### XGBoost"
   ]
  },
  {
   "cell_type": "code",
   "execution_count": 1,
   "metadata": {},
   "outputs": [],
   "source": [
    "import numpy as np\n",
    "import pandas as pd\n",
    "import xgboost as xgb\n",
    "from sklearn.model_selection import train_test_split\n",
    "from sklearn.metrics import roc_auc_score\n",
    "from sklearn.preprocessing import LabelEncoder\n",
    "from sklearn.metrics import roc_auc_score\n",
    "from sklearn.model_selection import GridSearchCV\n",
    "from sklearn.model_selection import StratifiedKFold\n",
    "from sklearn import model_selection\n",
    "from skopt import BayesSearchCV\n",
    "from matplotlib import pyplot\n",
    "from xgboost import plot_importance\n",
    "import warnings\n",
    "warnings.filterwarnings('ignore')\n",
    "import matplotlib.pyplot as plt\n",
    "from sklearn.metrics import roc_curve, auc"
   ]
  },
  {
   "cell_type": "markdown",
   "metadata": {},
   "source": [
    "### Data manipulation"
   ]
  },
  {
   "cell_type": "code",
   "execution_count": 2,
   "metadata": {},
   "outputs": [],
   "source": [
    "#####  Import Data  #####\n",
    "train = pd.read_csv(\"../data/train_data_clean_4_grouped.csv\")\n",
    "test = pd.read_csv(\"../data/test_data_clean_4_grouped.csv\")\n",
    "\n",
    "#####  Encode gender and living status and state  #####\n",
    "train[\"living_status\"] = pd.Categorical(train[\"living_status\"])\n",
    "train[\"gender\"] = np.where(train[\"gender\"].str.contains(\"M\"), 1, 0)\n",
    "train[\"living_status\"] = np.where(train[\"living_status\"].str.contains(\"Rent\"), 1, 0)\n",
    "\n",
    "test[\"living_status\"] = pd.Categorical(test[\"living_status\"])\n",
    "test[\"gender\"] = np.where(test[\"gender\"].str.contains(\"M\"), 1, 0)\n",
    "test[\"living_status\"] = np.where(test[\"living_status\"].str.contains(\"Rent\"), 1, 0)\n",
    "\n",
    "# one-hot encoding for site of state\n",
    "state_dummies = pd.get_dummies(test['state'], \n",
    "                                  prefix='state', drop_first=True)\n",
    "test = pd.concat([test, state_dummies], axis=1)\n",
    "test.drop([\"state\"], axis=1, inplace=True)\n",
    "\n",
    "# one-hot encoding for site of state\n",
    "state_dummies = pd.get_dummies(train['state'], \n",
    "                                  prefix='state', drop_first=True)\n",
    "train = pd.concat([train, state_dummies], axis=1)\n",
    "train.drop([\"state\"], axis=1, inplace=True)\n",
    "\n",
    "\n",
    "##### Drop month, day and year data, drop vehicle color, zipcode, claim_date, claim_number and SP_Index  #####\n",
    "train.drop([\"claim_month_january\", \"claim_month_february\", \"claim_month_march\", \"claim_month_may\", \n",
    "              \"claim_month_june\", \"claim_month_july\", \"claim_month_august\", \"claim_month_september\", \n",
    "              \"claim_month_october\", \"claim_month_november\", \"claim_month_december\", \n",
    "              \"claim_day_monday\", \"claim_day_tuesday\", \"claim_day_wednesday\", \"claim_day_thursday\", \n",
    "               \"claim_day_saturday\", \"claim_day_sunday\", \"claim_year\", \"claim_day\", \n",
    "              \"zip_code\", \"claim_date\", \"claim_number\", 'SP_Index', \"vehicle_color_blue\", \n",
    "               \"vehicle_color_gray\", \"vehicle_color_other\", \"vehicle_color_red\", \n",
    "              \"vehicle_color_silver\", \"vehicle_color_white\"], axis =1, inplace=True)\n",
    "\n",
    "test.drop([\"claim_month_january\", \"claim_month_february\", \"claim_month_march\", \"claim_month_may\", \n",
    "              \"claim_month_june\", \"claim_month_july\", \"claim_month_august\", \"claim_month_september\", \n",
    "              \"claim_month_october\", \"claim_month_november\", \"claim_month_december\", \n",
    "              \"claim_day_monday\", \"claim_day_tuesday\", \"claim_day_wednesday\", \"claim_day_thursday\", \n",
    "               \"claim_day_saturday\", \"claim_day_sunday\", \"claim_year\", \"claim_day\", \n",
    "              \"zip_code\", \"claim_date\", \"claim_number\", 'SP_Index', \"vehicle_color_blue\", \n",
    "               \"vehicle_color_gray\", \"vehicle_color_other\", \"vehicle_color_red\", \n",
    "              \"vehicle_color_silver\", \"vehicle_color_white\"], axis =1, inplace=True)\n",
    "\n",
    "\n",
    "#####  Add saftyrating/(number of past claim) feature  #####\n",
    "train['per_saftyrating'] = train['safty_rating']/(train['past_num_of_claims']+1)\n",
    "test['per_saftyrating'] = test['safty_rating']/(test['past_num_of_claims']+1)\n",
    "\n",
    "\n",
    "##### Delete some fraud_mean variables  #####\n",
    "## The best result is to keep fraud_vehicle_color and fraud_state\n",
    "train.drop([\"fraud_gender\", \"fraud_marital_status\", \"fraud_high_education_ind\", \"fraud_address_change_ind\", \n",
    "              \"fraud_living_status\", \"fraud_zip_code\", \"fraud_claim_date\", \"fraud_witness_present_ind\", \n",
    "              \"fraud_policy_report_filed_ind\", \"fraud_accident_site\", \"fraud_channel\", \"fraud_vehicle_category\",\n",
    "           \"fraud_vehicle_color\", \"fraud_state\",\"Unem_rate\"],\n",
    "              axis = 1, inplace = True)\n",
    "test.drop([\"fraud_gender\", \"fraud_marital_status\", \"fraud_high_education_ind\", \"fraud_address_change_ind\", \n",
    "              \"fraud_living_status\", \"fraud_zip_code\", \"fraud_claim_date\", \"fraud_witness_present_ind\", \n",
    "              \"fraud_policy_report_filed_ind\", \"fraud_accident_site\", \"fraud_channel\", \"fraud_vehicle_category\",\n",
    "          \"fraud_vehicle_color\", \"fraud_state\", \"Unem_rate\"],\n",
    "              axis = 1, inplace = True)\n",
    "train = train.filter(regex=\"^(?!state_).*$\")\n",
    "test = test.filter(regex=\"^(?!state_).*$\")"
   ]
  },
  {
   "cell_type": "code",
   "execution_count": 4,
   "metadata": {},
   "outputs": [
    {
     "data": {
      "text/plain": [
       "['age_of_driver',\n",
       " 'gender',\n",
       " 'marital_status',\n",
       " 'safty_rating',\n",
       " 'annual_income',\n",
       " 'high_education_ind',\n",
       " 'address_change_ind',\n",
       " 'living_status',\n",
       " 'past_num_of_claims',\n",
       " 'witness_present_ind',\n",
       " 'liab_prct',\n",
       " 'policy_report_filed_ind',\n",
       " 'claim_est_payout',\n",
       " 'age_of_vehicle',\n",
       " 'vehicle_price',\n",
       " 'vehicle_weight',\n",
       " 'fraud',\n",
       " 'latitude',\n",
       " 'longitude',\n",
       " 'accident_site_local',\n",
       " 'accident_site_parking_lot',\n",
       " 'channel_online',\n",
       " 'channel_phone',\n",
       " 'vehicle_category_large',\n",
       " 'vehicle_category_medium',\n",
       " 'Interest_rate',\n",
       " 'per_saftyrating']"
      ]
     },
     "execution_count": 4,
     "metadata": {},
     "output_type": "execute_result"
    }
   ],
   "source": [
    "list(train)"
   ]
  },
  {
   "cell_type": "markdown",
   "metadata": {},
   "source": [
    "### CV AUC score, prediction, and feature importance."
   ]
  },
  {
   "cell_type": "code",
   "execution_count": 10,
   "metadata": {},
   "outputs": [
    {
     "name": "stdout",
     "output_type": "stream",
     "text": [
      "[0.72161719 0.71784291 0.72342382 0.71238696 0.74069882 0.73470387]\n",
      "AUC: 0.7251 (+/- 0.0097)\n"
     ]
    },
    {
     "data": {
      "image/png": "[encoded data removed]",
      "text/plain": [
       "<Figure size 432x288 with 1 Axes>"
      ]
     },
     "metadata": {},
     "output_type": "display_data"
    }
   ],
   "source": [
    "y = train[\"fraud\"]\n",
    "X = train.drop(\"fraud\", 1)\n",
    "clf = xgb.XGBClassifier(max_depth=3,\n",
    "            learning_rate=0.06,\n",
    "            n_estimators=180,\n",
    "            silent=True,\n",
    "            objective='binary:logistic',\n",
    "            gamma=0.35,\n",
    "            min_child_weight=5,\n",
    "            max_delta_step=0,\n",
    "            subsample=0.8,\n",
    "            colsample_bytree=0.785,\n",
    "            colsample_bylevel=1,\n",
    "            reg_alpha=0.01,\n",
    "            reg_lambda=1,\n",
    "            scale_pos_weight=1,\n",
    "            seed=1440,\n",
    "            missing=None)\n",
    "\n",
    "## CV AUC score\n",
    "scores = model_selection.cross_val_score(clf, X.values, y.values, cv = 6, scoring = 'roc_auc')\n",
    "print(scores)\n",
    "print(\"AUC: %0.4f (+/- %0.4f)\" % (scores.mean(), scores.std()))\n",
    "\n",
    "## Final prediction on the test data\n",
    "clf.fit(X, y)\n",
    "y_pred = clf.predict_proba(test)[:,1]\n",
    "test = pd.read_csv(\"../data/test_data_clean2.csv\")\n",
    "test_output = {'claim_number':test['claim_number'], 'fraud':y_pred}\n",
    "test_output = pd.DataFrame(data = test_output)\n",
    "test_output = test_output.set_index('claim_number')\n",
    "test_output.to_csv(\"../data/predictions/prediction_xgboost.csv\")\n",
    "\n",
    "## Feature importance \n",
    "plot_importance(clf)\n",
    "pyplot.show()"
   ]
  }
 ],
 "metadata": {
  "kernelspec": {
   "display_name": "Python 3",
   "language": "python",
   "name": "python3"
  },
  "language_info": {
   "codemirror_mode": {
    "name": "ipython",
    "version": 3
   },
   "file_extension": ".py",
   "mimetype": "text/x-python",
   "name": "python",
   "nbconvert_exporter": "python",
   "pygments_lexer": "ipython3",
   "version": "3.6.5"
  }
 },
 "nbformat": 4,
 "nbformat_minor": 2
}
