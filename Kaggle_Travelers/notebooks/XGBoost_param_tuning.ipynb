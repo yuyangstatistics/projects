{
 "cells": [
  {
   "cell_type": "markdown",
   "metadata": {},
   "source": [
    "This notebook is about how I tuned the parameters for XGBoost."
   ]
  },
  {
   "cell_type": "code",
   "execution_count": 183,
   "metadata": {},
   "outputs": [],
   "source": [
    "import numpy as np\n",
    "import pandas as pd\n",
    "import xgboost as xgb\n",
    "from sklearn.model_selection import train_test_split\n",
    "from sklearn.metrics import roc_auc_score\n",
    "from sklearn.preprocessing import LabelEncoder\n",
    "from sklearn.metrics import roc_auc_score\n",
    "from sklearn.model_selection import GridSearchCV\n",
    "from sklearn.model_selection import StratifiedKFold\n",
    "import warnings\n",
    "warnings.filterwarnings('ignore')\n",
    "import matplotlib.pyplot as plt\n",
    "from sklearn.metrics import roc_curve, auc"
   ]
  },
  {
   "cell_type": "markdown",
   "metadata": {},
   "source": [
    "### Data Manipulation"
   ]
  },
  {
   "cell_type": "code",
   "execution_count": 185,
   "metadata": {},
   "outputs": [],
   "source": [
    "# Import data\n",
    "train_df = pd.read_csv(\"train_data_clean2.csv\")\n",
    "test_df = pd.read_csv(\"test_data_clean2.csv\")\n",
    "\n",
    "# Encode gender and living status and state\n",
    "train_df[\"living_status\"] = pd.Categorical(train_df[\"living_status\"])\n",
    "train_df[\"gender\"] = np.where(train_df[\"gender\"].str.contains(\"M\"), 1, 0)\n",
    "train_df[\"living_status\"] = np.where(train_df[\"living_status\"].str.contains(\"Rent\"), 1, 0)\n",
    "\n",
    "test_df[\"living_status\"] = pd.Categorical(test_df[\"living_status\"])\n",
    "test_df[\"gender\"] = np.where(test_df[\"gender\"].str.contains(\"M\"), 1, 0)\n",
    "test_df[\"living_status\"] = np.where(test_df[\"living_status\"].str.contains(\"Rent\"), 1, 0)\n",
    "\n",
    "# one-hot encoding for site of state\n",
    "state_dummies = pd.get_dummies(test_df['state'], \n",
    "                                  prefix='state', drop_first=True)\n",
    "test_df = pd.concat([test_df, state_dummies], axis=1)\n",
    "test_df.drop([\"state\"], axis=1, inplace=True)\n",
    "\n",
    "# one-hot encoding for site of state\n",
    "state_dummies = pd.get_dummies(train_df['state'], \n",
    "                                  prefix='state', drop_first=True)\n",
    "train_df = pd.concat([train_df, state_dummies], axis=1)\n",
    "train_df.drop([\"state\"], axis=1, inplace=True)\n",
    "\n",
    "# Drop month, day and year data\n",
    "train_df.drop([\"claim_month_january\", \"claim_month_february\", \"claim_month_march\", \"claim_month_may\", \n",
    "              \"claim_month_june\", \"claim_month_july\", \"claim_month_august\", \"claim_month_september\", \n",
    "              \"claim_month_october\", \"claim_month_november\", \"claim_month_december\", \n",
    "              \"claim_day_monday\", \"claim_day_tuesday\", \"claim_day_wednesday\", \"claim_day_thursday\", \n",
    "               \"claim_day_saturday\", \"claim_day_sunday\", \"claim_year\", \"claim_day\", \n",
    "              \"zip_code\", \"claim_date\", \"claim_number\", 'SP_Index', \"vehicle_color_blue\", \n",
    "               \"vehicle_color_gray\", \"vehicle_color_other\", \"vehicle_color_red\", \n",
    "              \"vehicle_color_silver\", \"vehicle_color_white\"], axis =1, inplace=True)\n",
    "\n",
    "test_df.drop([\"claim_month_january\", \"claim_month_february\", \"claim_month_march\", \"claim_month_may\", \n",
    "              \"claim_month_june\", \"claim_month_july\", \"claim_month_august\", \"claim_month_september\", \n",
    "              \"claim_month_october\", \"claim_month_november\", \"claim_month_december\", \n",
    "              \"claim_day_monday\", \"claim_day_tuesday\", \"claim_day_wednesday\", \"claim_day_thursday\", \n",
    "               \"claim_day_saturday\", \"claim_day_sunday\", \"claim_year\", \"claim_day\", \n",
    "              \"zip_code\", \"claim_date\", \"claim_number\", 'SP_Index', \"vehicle_color_blue\", \n",
    "               \"vehicle_color_gray\", \"vehicle_color_other\", \"vehicle_color_red\", \n",
    "              \"vehicle_color_silver\", \"vehicle_color_white\"], axis =1, inplace=True)"
   ]
  },
  {
   "cell_type": "markdown",
   "metadata": {},
   "source": [
    "### AUC metric"
   ]
  },
  {
   "cell_type": "code",
   "execution_count": 99,
   "metadata": {},
   "outputs": [],
   "source": [
    "# Seperate the training data into training data and validation data\n",
    "y = train_df[\"fraud\"]\n",
    "X = train_df.drop(\"fraud\", 1)\n",
    "seed = 7\n",
    "test_size = 0.3\n",
    "X_train, X_test, y_train, y_test = train_test_split(X, y, test_size=test_size, random_state=seed)\n",
    "\n",
    "model = xgb.XGBClassifier()\n",
    "model.fit(X_train, y_train)\n",
    "\n",
    "### consider unemployment rate\n",
    "y_pred_xgb = model.predict_proba(X_test)[:,1]\n",
    "fpr_xgb, tpr_xgb, _ = roc_curve(y_test, y_pred_xgb)\n",
    "auc(fpr_xgb, tpr_xgb)"
   ]
  },
  {
   "cell_type": "markdown",
   "metadata": {},
   "source": [
    "### Parameter tuning"
   ]
  },
  {
   "cell_type": "code",
   "execution_count": 59,
   "metadata": {},
   "outputs": [],
   "source": [
    "parameters = {\n",
    "              'max_depth': [4, 8, 12, 16, 20],\n",
    "              'learning_rate': [0.01, 0.02, 0.05, 0.1, 0.15],\n",
    "              'n_estimators': [300, 600, 900, 1200, 1500],\n",
    "              'min_child_weight': [0, 2, 5, 10, 20],\n",
    "              'max_delta_step': [0, 0.2, 0.6, 1, 2],\n",
    "              'subsample': [0.6, 0.7, 0.8, 0.85, 0.95],\n",
    "              'colsample_bytree': [0.5, 0.6, 0.7, 0.8, 0.9],\n",
    "              'reg_alpha': [0, 0.25, 0.5, 0.75, 1],\n",
    "              'reg_lambda': [0.2, 0.4, 0.6, 0.8, 1],\n",
    "              'scale_pos_weight': [0.2, 0.4, 0.6, 0.8, 1]\n",
    "}\n",
    "\n",
    "xlf = xgb.XGBClassifier(max_depth=10,\n",
    "            learning_rate=0.01,\n",
    "            n_estimators=300,\n",
    "            silent=True,\n",
    "            objective='binary:logistic',\n",
    "            nthread=-1,\n",
    "            gamma=0,\n",
    "            min_child_weight=1,\n",
    "            max_delta_step=0,\n",
    "            subsample=0.85,\n",
    "            colsample_bytree=0.7,\n",
    "            colsample_bylevel=1,\n",
    "            reg_alpha=0,\n",
    "            reg_lambda=1,\n",
    "            scale_pos_weight=1,\n",
    "            seed=1440,\n",
    "            missing=None)\n"
   ]
  },
  {
   "cell_type": "markdown",
   "metadata": {},
   "source": [
    "### Step1: Set learning rate=0.1, tuning n_estimator"
   ]
  },
  {
   "cell_type": "code",
   "execution_count": 180,
   "metadata": {
    "scrolled": true
   },
   "outputs": [
    {
     "data": {
      "image/png": "[encoded data removed]",
      "text/plain": [
       "<Figure size 432x288 with 1 Axes>"
      ]
     },
     "metadata": {},
     "output_type": "display_data"
    }
   ],
   "source": [
    "auc_xgb = list()\n",
    "for i in np.arange(1, 200):\n",
    "    n_estimator = i\n",
    "    clf = xgb.XGBClassifier(\n",
    "            max_depth=6,\n",
    "            learning_rate=0.1,\n",
    "            n_estimators=n_estimator,\n",
    "            silent=True,\n",
    "            objective='binary:logistic',\n",
    "            nthread=-1,\n",
    "            gamma=0,\n",
    "            min_child_weight=1,\n",
    "            max_delta_step=0,\n",
    "            subsample=0.8,\n",
    "            colsample_bytree=0.8,\n",
    "            colsample_bylevel=1,\n",
    "            reg_alpha=0,\n",
    "            reg_lambda=1,\n",
    "            scale_pos_weight=1,\n",
    "            seed=1440,\n",
    "            missing=None)\n",
    "    model_sklearn = clf.fit(X_train, y_train)\n",
    "    y_pred_xgb = clf.predict_proba(X_test)[:,1]\n",
    "    fpr_xgb, tpr_xgb, _ = roc_curve(y_test, y_pred_xgb)\n",
    "    auc_xgb.append(auc(fpr_xgb, tpr_xgb))\n",
    "plt.plot(np.arange(1, 200), auc_xgb)\n",
    "plt.show()"
   ]
  },
  {
   "cell_type": "markdown",
   "metadata": {},
   "source": [
    "This plot seems like wierd."
   ]
  },
  {
   "cell_type": "code",
   "execution_count": 87,
   "metadata": {},
   "outputs": [
    {
     "name": "stdout",
     "output_type": "stream",
     "text": [
      "Best score: 0.701\n",
      "Best parameters set:\n",
      "\tn_estimators: 50\n"
     ]
    }
   ],
   "source": [
    "parameters = {\n",
    "              'n_estimators': [50, 75, 100] \n",
    "}\n",
    "\n",
    "xlf = xgb.XGBClassifier(max_depth=6,\n",
    "            learning_rate=0.1,\n",
    "            n_estimators=100,\n",
    "            silent=True,\n",
    "            objective='binary:logistic',\n",
    "            nthread=-1,\n",
    "            gamma=0,\n",
    "            min_child_weight=1,\n",
    "            max_delta_step=0,\n",
    "            subsample=0.8,\n",
    "            colsample_bytree=0.8,\n",
    "            colsample_bylevel=1,\n",
    "            reg_alpha=0,\n",
    "            reg_lambda=1,\n",
    "            scale_pos_weight=1,\n",
    "            seed=1440,\n",
    "            missing=None)\n",
    "\n",
    "gsearch = GridSearchCV(xlf, param_grid=parameters, scoring='roc_auc', cv=5)\n",
    "gsearch.fit(X_train, y_train)\n",
    "\n",
    "print(\"Best score: %0.3f\" % gsearch.best_score_)\n",
    "print(\"Best parameters set:\")\n",
    "best_parameters = gsearch.best_estimator_.get_params()\n",
    "for param_name in sorted(parameters.keys()):\n",
    "    print(\"\\t%s: %r\" % (param_name, best_parameters[param_name]))"
   ]
  },
  {
   "cell_type": "code",
   "execution_count": 114,
   "metadata": {},
   "outputs": [
    {
     "data": {
      "text/plain": [
       "0.716093270014821"
      ]
     },
     "execution_count": 114,
     "metadata": {},
     "output_type": "execute_result"
    }
   ],
   "source": [
    "clf = xgb.XGBClassifier(base_score=0.5, booster='gbtree', colsample_bylevel=1,\n",
    "       colsample_bytree=1, gamma=0, learning_rate=0.1, max_delta_step=0,\n",
    "       max_depth=3, min_child_weight=1, missing=None, n_estimators=80,\n",
    "       n_jobs=1, nthread=None, objective='binary:logistic', random_state=0,\n",
    "       reg_alpha=0, reg_lambda=1, scale_pos_weight=1, seed=None,\n",
    "       silent=True, subsample=1)\n",
    "clf.fit(X_train, y_train)\n",
    "y_pred_xgb = clf.predict_proba(X_test)[:,1]\n",
    "fpr_xgb, tpr_xgb, _ = roc_curve(y_test, y_pred_xgb)\n",
    "auc(fpr_xgb, tpr_xgb)"
   ]
  },
  {
   "cell_type": "markdown",
   "metadata": {},
   "source": [
    "choose n_estimator = 80"
   ]
  },
  {
   "cell_type": "markdown",
   "metadata": {},
   "source": [
    "### Step2: max_depth and min_child_weight"
   ]
  },
  {
   "cell_type": "code",
   "execution_count": 116,
   "metadata": {},
   "outputs": [
    {
     "name": "stdout",
     "output_type": "stream",
     "text": [
      "Best score: 0.719\n",
      "Best parameters set:\n",
      "\tmax_depth: 3\n",
      "\tmin_child_weight: 5\n"
     ]
    }
   ],
   "source": [
    "parameters = {\n",
    "              'max_depth': range(3, 10, 2),\n",
    "              'min_child_weight': range(1, 6, 2)\n",
    "}\n",
    "\n",
    "xlf = xgb.XGBClassifier(max_depth=5,\n",
    "            learning_rate=0.1,\n",
    "            n_estimators=80,\n",
    "            silent=True,\n",
    "            objective='binary:logistic',\n",
    "            gamma=0,\n",
    "            min_child_weight=1,\n",
    "            max_delta_step=0,\n",
    "            subsample=0.8,\n",
    "            colsample_bytree=0.8,\n",
    "            colsample_bylevel=1,\n",
    "            reg_alpha=0,\n",
    "            reg_lambda=1,\n",
    "            scale_pos_weight=1,\n",
    "            seed=1440,\n",
    "            missing=None)\n",
    "\n",
    "gsearch = GridSearchCV(xlf, param_grid=parameters, scoring='roc_auc', cv=5)\n",
    "gsearch.fit(X_train, y_train)\n",
    "\n",
    "print(\"Best score: %0.3f\" % gsearch.best_score_)\n",
    "print(\"Best parameters set:\")\n",
    "best_parameters = gsearch.best_estimator_.get_params()\n",
    "for param_name in sorted(parameters.keys()):\n",
    "    print(\"\\t%s: %r\" % (param_name, best_parameters[param_name]))"
   ]
  },
  {
   "cell_type": "code",
   "execution_count": 117,
   "metadata": {},
   "outputs": [
    {
     "name": "stdout",
     "output_type": "stream",
     "text": [
      "Best score: 0.719\n",
      "Best parameters set:\n",
      "\tmax_depth: 3\n",
      "\tmin_child_weight: 5\n"
     ]
    }
   ],
   "source": [
    "parameters = {\n",
    "              'max_depth': [2, 3, 4],\n",
    "              'min_child_weight': [4, 5, 6]\n",
    "}\n",
    "\n",
    "xlf = xgb.XGBClassifier(max_depth=5,\n",
    "            learning_rate=0.1,\n",
    "            n_estimators=80,\n",
    "            silent=True,\n",
    "            objective='binary:logistic',\n",
    "            gamma=0,\n",
    "            min_child_weight=1,\n",
    "            max_delta_step=0,\n",
    "            subsample=0.8,\n",
    "            colsample_bytree=0.8,\n",
    "            colsample_bylevel=1,\n",
    "            reg_alpha=0,\n",
    "            reg_lambda=1,\n",
    "            scale_pos_weight=1,\n",
    "            seed=1440,\n",
    "            missing=None)\n",
    "\n",
    "gsearch = GridSearchCV(xlf, param_grid=parameters, scoring='roc_auc', cv=5)\n",
    "gsearch.fit(X_train, y_train)\n",
    "\n",
    "print(\"Best score: %0.3f\" % gsearch.best_score_)\n",
    "print(\"Best parameters set:\")\n",
    "best_parameters = gsearch.best_estimator_.get_params()\n",
    "for param_name in sorted(parameters.keys()):\n",
    "    print(\"\\t%s: %r\" % (param_name, best_parameters[param_name]))"
   ]
  },
  {
   "cell_type": "markdown",
   "metadata": {},
   "source": [
    "Set max_depth = 3, min_child_weight = 5"
   ]
  },
  {
   "cell_type": "markdown",
   "metadata": {},
   "source": [
    "### Step3: gamma"
   ]
  },
  {
   "cell_type": "code",
   "execution_count": 118,
   "metadata": {},
   "outputs": [
    {
     "name": "stdout",
     "output_type": "stream",
     "text": [
      "Best score: 0.719\n",
      "Best parameters set:\n",
      "\tgamma: 0.0\n"
     ]
    }
   ],
   "source": [
    "parameters = {\n",
    "              'gamma':[i/10.0 for i in range(0,5)]\n",
    "}\n",
    "\n",
    "xlf = xgb.XGBClassifier(max_depth=3,\n",
    "            learning_rate=0.1,\n",
    "            n_estimators=80,\n",
    "            silent=True,\n",
    "            objective='binary:logistic',\n",
    "            gamma=0,\n",
    "            min_child_weight=5,\n",
    "            max_delta_step=0,\n",
    "            subsample=0.8,\n",
    "            colsample_bytree=0.8,\n",
    "            colsample_bylevel=1,\n",
    "            reg_alpha=0,\n",
    "            reg_lambda=1,\n",
    "            scale_pos_weight=1,\n",
    "            seed=1440,\n",
    "            missing=None)\n",
    "\n",
    "gsearch = GridSearchCV(xlf, param_grid=parameters, scoring='roc_auc', cv=5)\n",
    "gsearch.fit(X_train, y_train)\n",
    "\n",
    "print(\"Best score: %0.3f\" % gsearch.best_score_)\n",
    "print(\"Best parameters set:\")\n",
    "best_parameters = gsearch.best_estimator_.get_params()\n",
    "for param_name in sorted(parameters.keys()):\n",
    "    print(\"\\t%s: %r\" % (param_name, best_parameters[param_name]))"
   ]
  },
  {
   "cell_type": "markdown",
   "metadata": {},
   "source": [
    "Set gamma = 0"
   ]
  },
  {
   "cell_type": "markdown",
   "metadata": {},
   "source": [
    "### Step4: subsample and colsample_bytree"
   ]
  },
  {
   "cell_type": "code",
   "execution_count": 119,
   "metadata": {},
   "outputs": [
    {
     "name": "stdout",
     "output_type": "stream",
     "text": [
      "Best score: 0.719\n",
      "Best parameters set:\n",
      "\tcolsample_bytree: 0.8\n",
      "\tsubsample: 0.8\n"
     ]
    }
   ],
   "source": [
    "parameters = {\n",
    "              'subsample':[i/10.0 for i in range(6,10)],\n",
    "              'colsample_bytree':[i/10.0 for i in range(6,10)]\n",
    "}\n",
    "\n",
    "xlf = xgb.XGBClassifier(max_depth=3,\n",
    "            learning_rate=0.1,\n",
    "            n_estimators=80,\n",
    "            silent=True,\n",
    "            objective='binary:logistic',\n",
    "            gamma=0,\n",
    "            min_child_weight=5,\n",
    "            max_delta_step=0,\n",
    "            subsample=0.8,\n",
    "            colsample_bytree=0.8,\n",
    "            colsample_bylevel=1,\n",
    "            reg_alpha=0,\n",
    "            reg_lambda=1,\n",
    "            scale_pos_weight=1,\n",
    "            seed=1440,\n",
    "            missing=None)\n",
    "\n",
    "gsearch = GridSearchCV(xlf, param_grid=parameters, scoring='roc_auc', cv=5)\n",
    "gsearch.fit(X_train, y_train)\n",
    "\n",
    "print(\"Best score: %0.3f\" % gsearch.best_score_)\n",
    "print(\"Best parameters set:\")\n",
    "best_parameters = gsearch.best_estimator_.get_params()\n",
    "for param_name in sorted(parameters.keys()):\n",
    "    print(\"\\t%s: %r\" % (param_name, best_parameters[param_name]))"
   ]
  },
  {
   "cell_type": "code",
   "execution_count": 120,
   "metadata": {},
   "outputs": [
    {
     "name": "stdout",
     "output_type": "stream",
     "text": [
      "Best score: 0.719\n",
      "Best parameters set:\n",
      "\tcolsample_bytree: 0.8\n",
      "\tsubsample: 0.8\n"
     ]
    }
   ],
   "source": [
    "parameters = {\n",
    "              'subsample':[i/100.0 for i in range(75, 90, 5)],\n",
    "              'colsample_bytree':[i/100.0 for i in range(75, 90, 5)]\n",
    "}\n",
    "\n",
    "xlf = xgb.XGBClassifier(max_depth=3,\n",
    "            learning_rate=0.1,\n",
    "            n_estimators=80,\n",
    "            silent=True,\n",
    "            objective='binary:logistic',\n",
    "            gamma=0,\n",
    "            min_child_weight=5,\n",
    "            max_delta_step=0,\n",
    "            subsample=0.8,\n",
    "            colsample_bytree=0.8,\n",
    "            colsample_bylevel=1,\n",
    "            reg_alpha=0,\n",
    "            reg_lambda=1,\n",
    "            scale_pos_weight=1,\n",
    "            seed=1440,\n",
    "            missing=None)\n",
    "\n",
    "gsearch = GridSearchCV(xlf, param_grid=parameters, scoring='roc_auc', cv=5)\n",
    "gsearch.fit(X_train, y_train)\n",
    "\n",
    "print(\"Best score: %0.3f\" % gsearch.best_score_)\n",
    "print(\"Best parameters set:\")\n",
    "best_parameters = gsearch.best_estimator_.get_params()\n",
    "for param_name in sorted(parameters.keys()):\n",
    "    print(\"\\t%s: %r\" % (param_name, best_parameters[param_name]))"
   ]
  },
  {
   "cell_type": "markdown",
   "metadata": {},
   "source": [
    "Set colsample_bytree = 0.8, subsample = 0.8"
   ]
  },
  {
   "cell_type": "markdown",
   "metadata": {},
   "source": [
    "### Step5: reg_alpha and reg_lambda"
   ]
  },
  {
   "cell_type": "code",
   "execution_count": 122,
   "metadata": {},
   "outputs": [
    {
     "name": "stdout",
     "output_type": "stream",
     "text": [
      "Best score: 0.719\n",
      "Best parameters set:\n",
      "\treg_alpha: 1e-06\n"
     ]
    }
   ],
   "source": [
    "parameters = {\n",
    "              'reg_alpha': [1e-6, 1e-5, 1e-4, 1e-3, 1e-2]\n",
    "}\n",
    "\n",
    "xlf = xgb.XGBClassifier(max_depth=3,\n",
    "            learning_rate=0.1,\n",
    "            n_estimators=80,\n",
    "            silent=True,\n",
    "            objective='binary:logistic',\n",
    "            gamma=0,\n",
    "            min_child_weight=5,\n",
    "            max_delta_step=0,\n",
    "            subsample=0.8,\n",
    "            colsample_bytree=0.8,\n",
    "            colsample_bylevel=1,\n",
    "            reg_alpha=0,\n",
    "            reg_lambda=1,\n",
    "            scale_pos_weight=1,\n",
    "            seed=1440,\n",
    "            missing=None)\n",
    "\n",
    "gsearch = GridSearchCV(xlf, param_grid=parameters, scoring='roc_auc', cv=5)\n",
    "gsearch.fit(X_train, y_train)\n",
    "\n",
    "print(\"Best score: %0.3f\" % gsearch.best_score_)\n",
    "print(\"Best parameters set:\")\n",
    "best_parameters = gsearch.best_estimator_.get_params()\n",
    "for param_name in sorted(parameters.keys()):\n",
    "    print(\"\\t%s: %r\" % (param_name, best_parameters[param_name]))"
   ]
  },
  {
   "cell_type": "markdown",
   "metadata": {},
   "source": [
    "Set reg_alpha = 0"
   ]
  },
  {
   "cell_type": "code",
   "execution_count": 123,
   "metadata": {},
   "outputs": [
    {
     "name": "stdout",
     "output_type": "stream",
     "text": [
      "Best score: 0.719\n",
      "Best parameters set:\n",
      "\treg_lambda: 1\n"
     ]
    }
   ],
   "source": [
    "parameters = {\n",
    "              'reg_lambda': [0.1, 0.5, 1, 1.5, 2]\n",
    "}\n",
    "\n",
    "xlf = xgb.XGBClassifier(max_depth=3,\n",
    "            learning_rate=0.1,\n",
    "            n_estimators=80,\n",
    "            silent=True,\n",
    "            objective='binary:logistic',\n",
    "            gamma=0,\n",
    "            min_child_weight=5,\n",
    "            max_delta_step=0,\n",
    "            subsample=0.8,\n",
    "            colsample_bytree=0.8,\n",
    "            colsample_bylevel=1,\n",
    "            reg_alpha=0,\n",
    "            reg_lambda=1,\n",
    "            scale_pos_weight=1,\n",
    "            seed=1440,\n",
    "            missing=None)\n",
    "\n",
    "gsearch = GridSearchCV(xlf, param_grid=parameters, scoring='roc_auc', cv=5)\n",
    "gsearch.fit(X_train, y_train)\n",
    "\n",
    "print(\"Best score: %0.3f\" % gsearch.best_score_)\n",
    "print(\"Best parameters set:\")\n",
    "best_parameters = gsearch.best_estimator_.get_params()\n",
    "for param_name in sorted(parameters.keys()):\n",
    "    print(\"\\t%s: %r\" % (param_name, best_parameters[param_name]))"
   ]
  },
  {
   "cell_type": "code",
   "execution_count": 124,
   "metadata": {},
   "outputs": [
    {
     "name": "stdout",
     "output_type": "stream",
     "text": [
      "Best score: 0.719\n",
      "Best parameters set:\n",
      "\treg_lambda: 1\n"
     ]
    }
   ],
   "source": [
    "parameters = {\n",
    "              'reg_lambda': [0.6, 0.8, 1, 1.2, 1.4]\n",
    "}\n",
    "\n",
    "xlf = xgb.XGBClassifier(max_depth=3,\n",
    "            learning_rate=0.1,\n",
    "            n_estimators=80,\n",
    "            silent=True,\n",
    "            objective='binary:logistic',\n",
    "            gamma=0,\n",
    "            min_child_weight=5,\n",
    "            max_delta_step=0,\n",
    "            subsample=0.8,\n",
    "            colsample_bytree=0.8,\n",
    "            colsample_bylevel=1,\n",
    "            reg_alpha=0,\n",
    "            reg_lambda=1,\n",
    "            scale_pos_weight=1,\n",
    "            seed=1440,\n",
    "            missing=None)\n",
    "\n",
    "gsearch = GridSearchCV(xlf, param_grid=parameters, scoring='roc_auc', cv=5)\n",
    "gsearch.fit(X_train, y_train)\n",
    "\n",
    "print(\"Best score: %0.3f\" % gsearch.best_score_)\n",
    "print(\"Best parameters set:\")\n",
    "best_parameters = gsearch.best_estimator_.get_params()\n",
    "for param_name in sorted(parameters.keys()):\n",
    "    print(\"\\t%s: %r\" % (param_name, best_parameters[param_name]))"
   ]
  },
  {
   "cell_type": "markdown",
   "metadata": {},
   "source": [
    "Set reg_lambda = 1"
   ]
  },
  {
   "cell_type": "markdown",
   "metadata": {},
   "source": [
    "### Step6: lower down learning_rate"
   ]
  },
  {
   "cell_type": "code",
   "execution_count": 130,
   "metadata": {},
   "outputs": [
    {
     "data": {
      "image/png": "[encoded data removed]",
      "text/plain": [
       "<Figure size 432x288 with 1 Axes>"
      ]
     },
     "metadata": {},
     "output_type": "display_data"
    }
   ],
   "source": [
    "auc_xgb = list()\n",
    "for i in np.arange(1, 200):\n",
    "    n_estimator = i\n",
    "    clf = xgb.XGBClassifier(\n",
    "            max_depth=3,\n",
    "            learning_rate=0.05,\n",
    "            n_estimators=n_estimator,\n",
    "            silent=True,\n",
    "            objective='binary:logistic',\n",
    "            nthread=-1,\n",
    "            gamma=0,\n",
    "            min_child_weight=5,\n",
    "            max_delta_step=0,\n",
    "            subsample=0.8,\n",
    "            colsample_bytree=0.8,\n",
    "            colsample_bylevel=1,\n",
    "            reg_alpha=0,\n",
    "            reg_lambda=1,\n",
    "            scale_pos_weight=1,\n",
    "            seed=1440,\n",
    "            missing=None)\n",
    "    model_sklearn = clf.fit(X_train, y_train)\n",
    "    y_pred_xgb = clf.predict_proba(X_test)[:,1]\n",
    "    fpr_xgb, tpr_xgb, _ = roc_curve(y_test, y_pred_xgb)\n",
    "    auc_xgb.append(auc(fpr_xgb, tpr_xgb))\n",
    "\n",
    "plt.plot(np.arange(1, 200), auc_xgb)\n",
    "plt.show()"
   ]
  },
  {
   "cell_type": "code",
   "execution_count": 135,
   "metadata": {},
   "outputs": [
    {
     "data": {
      "text/plain": [
       "0.7197219900201546"
      ]
     },
     "execution_count": 135,
     "metadata": {},
     "output_type": "execute_result"
    }
   ],
   "source": [
    "clf = xgb.XGBClassifier(max_depth=3,\n",
    "            learning_rate=0.05,\n",
    "            n_estimators=160,\n",
    "            silent=True,\n",
    "            objective='binary:logistic',\n",
    "            gamma=0,\n",
    "            min_child_weight=5,\n",
    "            max_delta_step=0,\n",
    "            subsample=0.8,\n",
    "            colsample_bytree=0.8,\n",
    "            colsample_bylevel=1,\n",
    "            reg_alpha=0,\n",
    "            reg_lambda=1,\n",
    "            scale_pos_weight=1,\n",
    "            seed=1440,\n",
    "            missing=None)\n",
    "clf.fit(X_train, y_train)\n",
    "y_pred_xgb = clf.predict_proba(X_test)[:,1]\n",
    "fpr_xgb, tpr_xgb, _ = roc_curve(y_test, y_pred_xgb)\n",
    "auc(fpr_xgb, tpr_xgb)"
   ]
  },
  {
   "cell_type": "markdown",
   "metadata": {},
   "source": [
    "Set learning_rate = 0.05, n_estimator = 160"
   ]
  },
  {
   "cell_type": "markdown",
   "metadata": {},
   "source": [
    "Repeat the steps again."
   ]
  },
  {
   "cell_type": "code",
   "execution_count": 140,
   "metadata": {},
   "outputs": [
    {
     "name": "stdout",
     "output_type": "stream",
     "text": [
      "Best score: 0.719\n",
      "Best parameters set:\n",
      "\tmax_depth: 3\n",
      "\tmin_child_weight: 5\n"
     ]
    }
   ],
   "source": [
    "# Step2: max_depth and min_child_weight\n",
    "parameters = {\n",
    "              'max_depth': [2, 3, 4],\n",
    "              'min_child_weight': [4, 5, 6]\n",
    "}\n",
    "\n",
    "xlf = xgb.XGBClassifier(max_depth=3,\n",
    "            learning_rate=0.05,\n",
    "            n_estimators=160,\n",
    "            silent=True,\n",
    "            objective='binary:logistic',\n",
    "            gamma=0,\n",
    "            min_child_weight=5,\n",
    "            max_delta_step=0,\n",
    "            subsample=0.8,\n",
    "            colsample_bytree=0.8,\n",
    "            colsample_bylevel=1,\n",
    "            reg_alpha=0,\n",
    "            reg_lambda=1,\n",
    "            scale_pos_weight=1,\n",
    "            seed=1440,\n",
    "            missing=None)\n",
    "\n",
    "gsearch = GridSearchCV(xlf, param_grid=parameters, scoring='roc_auc', cv=5)\n",
    "gsearch.fit(X_train, y_train)\n",
    "\n",
    "print(\"Best score: %0.3f\" % gsearch.best_score_)\n",
    "print(\"Best parameters set:\")\n",
    "best_parameters = gsearch.best_estimator_.get_params()\n",
    "for param_name in sorted(parameters.keys()):\n",
    "    print(\"\\t%s: %r\" % (param_name, best_parameters[param_name]))"
   ]
  },
  {
   "cell_type": "markdown",
   "metadata": {},
   "source": [
    "Set max_depth = 3,min_child_weight = 5"
   ]
  },
  {
   "cell_type": "code",
   "execution_count": 146,
   "metadata": {},
   "outputs": [
    {
     "name": "stdout",
     "output_type": "stream",
     "text": [
      "Best score: 0.719\n",
      "Best parameters set:\n",
      "\tgamma: 0.3\n"
     ]
    }
   ],
   "source": [
    "# Step3: gamma\n",
    "parameters = {\n",
    "              'gamma':[0.27, 0.285, 0.3, 0.315, 0.33]\n",
    "}\n",
    "\n",
    "xlf = xgb.XGBClassifier(max_depth=3,\n",
    "            learning_rate=0.05,\n",
    "            n_estimators=160,\n",
    "            silent=True,\n",
    "            objective='binary:logistic',\n",
    "            gamma=0,\n",
    "            min_child_weight=5,\n",
    "            max_delta_step=0,\n",
    "            subsample=0.8,\n",
    "            colsample_bytree=0.8,\n",
    "            colsample_bylevel=1,\n",
    "            reg_alpha=0,\n",
    "            reg_lambda=1,\n",
    "            scale_pos_weight=1,\n",
    "            seed=1440,\n",
    "            missing=None)\n",
    "\n",
    "gsearch = GridSearchCV(xlf, param_grid=parameters, scoring='roc_auc', cv=5)\n",
    "gsearch.fit(X_train, y_train)\n",
    "\n",
    "print(\"Best score: %0.3f\" % gsearch.best_score_)\n",
    "print(\"Best parameters set:\")\n",
    "best_parameters = gsearch.best_estimator_.get_params()\n",
    "for param_name in sorted(parameters.keys()):\n",
    "    print(\"\\t%s: %r\" % (param_name, best_parameters[param_name]))"
   ]
  },
  {
   "cell_type": "markdown",
   "metadata": {},
   "source": [
    "Set gamma = 0.3"
   ]
  },
  {
   "cell_type": "code",
   "execution_count": 153,
   "metadata": {},
   "outputs": [
    {
     "name": "stdout",
     "output_type": "stream",
     "text": [
      "Best score: 0.719\n",
      "Best parameters set:\n",
      "\tcolsample_bytree: 0.78\n"
     ]
    }
   ],
   "source": [
    "# Step4: subsample and colsample\n",
    "parameters = {\n",
    "              'subsample':[0.78, 0.8, 0.82],\n",
    "              'colsample_bytree':[0.78, 0.79, 0.8]\n",
    "}\n",
    "\n",
    "xlf = xgb.XGBClassifier(max_depth=3,\n",
    "            learning_rate=0.1,\n",
    "            n_estimators=80,\n",
    "            silent=True,\n",
    "            objective='binary:logistic',\n",
    "            gamma=0.3,\n",
    "            min_child_weight=5,\n",
    "            max_delta_step=0,\n",
    "            subsample=0.8,\n",
    "            colsample_bytree=0.8,\n",
    "            colsample_bylevel=1,\n",
    "            reg_alpha=0,\n",
    "            reg_lambda=1,\n",
    "            scale_pos_weight=1,\n",
    "            seed=1440,\n",
    "            missing=None)\n",
    "\n",
    "gsearch = GridSearchCV(xlf, param_grid=parameters, scoring='roc_auc', cv=5)\n",
    "gsearch.fit(X_train, y_train)\n",
    "\n",
    "print(\"Best score: %0.3f\" % gsearch.best_score_)\n",
    "print(\"Best parameters set:\")\n",
    "best_parameters = gsearch.best_estimator_.get_params()\n",
    "for param_name in sorted(parameters.keys()):\n",
    "    print(\"\\t%s: %r\" % (param_name, best_parameters[param_name]))"
   ]
  },
  {
   "cell_type": "markdown",
   "metadata": {},
   "source": [
    "Set subsample = 0.8, set colsample_bytree = 0.8 or 0.78.\n",
    "\n",
    "colsample_bytree = 0.8: higher results in test, 0.78 is recommended by CV.\n",
    "Set it to be 0.785"
   ]
  },
  {
   "cell_type": "code",
   "execution_count": 158,
   "metadata": {},
   "outputs": [
    {
     "name": "stdout",
     "output_type": "stream",
     "text": [
      "Best score: 0.719\n",
      "Best parameters set:\n",
      "\treg_alpha: 0.01\n"
     ]
    }
   ],
   "source": [
    "# Step5: reg_alpha and reg_lambda\n",
    "parameters = {\n",
    "              'reg_alpha': [1e-6, 1e-5, 1e-4, 1e-3, 1e-2]\n",
    "}\n",
    "\n",
    "xlf = xgb.XGBClassifier(max_depth=3,\n",
    "            learning_rate=0.05,\n",
    "            n_estimators=160,\n",
    "            silent=True,\n",
    "            objective='binary:logistic',\n",
    "            gamma=0.3,\n",
    "            min_child_weight=5,\n",
    "            max_delta_step=0,\n",
    "            subsample=0.8,\n",
    "            colsample_bytree=0.785,\n",
    "            colsample_bylevel=1,\n",
    "            reg_alpha=0,\n",
    "            reg_lambda=1,\n",
    "            scale_pos_weight=1,\n",
    "            seed=1440,\n",
    "            missing=None)\n",
    "\n",
    "gsearch = GridSearchCV(xlf, param_grid=parameters, scoring='roc_auc', cv=5)\n",
    "gsearch.fit(X_train, y_train)\n",
    "\n",
    "print(\"Best score: %0.3f\" % gsearch.best_score_)\n",
    "print(\"Best parameters set:\")\n",
    "best_parameters = gsearch.best_estimator_.get_params()\n",
    "for param_name in sorted(parameters.keys()):\n",
    "    print(\"\\t%s: %r\" % (param_name, best_parameters[param_name]))"
   ]
  },
  {
   "cell_type": "markdown",
   "metadata": {},
   "source": [
    "Set reg_alpha = 0.01"
   ]
  },
  {
   "cell_type": "code",
   "execution_count": 181,
   "metadata": {},
   "outputs": [
    {
     "name": "stdout",
     "output_type": "stream",
     "text": [
      "Best score: 0.719\n",
      "Best parameters set:\n",
      "\treg_lambda: 1\n"
     ]
    }
   ],
   "source": [
    "# Step5: reg_alpha and reg_lambda\n",
    "parameters = {\n",
    "              'reg_lambda': [0.5, 0.8, 1, 1.2, 1.5]\n",
    "}\n",
    "\n",
    "xlf = xgb.XGBClassifier(max_depth=3,\n",
    "            learning_rate=0.05,\n",
    "            n_estimators=160,\n",
    "            silent=True,\n",
    "            objective='binary:logistic',\n",
    "            gamma=0.3,\n",
    "            min_child_weight=5,\n",
    "            max_delta_step=0,\n",
    "            subsample=0.8,\n",
    "            colsample_bytree=0.785,\n",
    "            colsample_bylevel=1,\n",
    "            reg_alpha=0.01,\n",
    "            reg_lambda=1,\n",
    "            scale_pos_weight=1,\n",
    "            seed=1440,\n",
    "            missing=None)\n",
    "\n",
    "gsearch = GridSearchCV(xlf, param_grid=parameters, scoring='roc_auc', cv=5)\n",
    "gsearch.fit(X_train, y_train)\n",
    "\n",
    "print(\"Best score: %0.3f\" % gsearch.best_score_)\n",
    "print(\"Best parameters set:\")\n",
    "best_parameters = gsearch.best_estimator_.get_params()\n",
    "for param_name in sorted(parameters.keys()):\n",
    "    print(\"\\t%s: %r\" % (param_name, best_parameters[param_name]))"
   ]
  },
  {
   "cell_type": "markdown",
   "metadata": {},
   "source": [
    "Set reg_lambda = 1"
   ]
  },
  {
   "cell_type": "markdown",
   "metadata": {},
   "source": [
    "So, the final set of parameters are as follows."
   ]
  },
  {
   "cell_type": "code",
   "execution_count": 179,
   "metadata": {},
   "outputs": [
    {
     "data": {
      "text/plain": [
       "0.7162731482668607"
      ]
     },
     "execution_count": 179,
     "metadata": {},
     "output_type": "execute_result"
    }
   ],
   "source": [
    "clf = xgb.XGBClassifier(max_depth=3,\n",
    "            learning_rate=0.05,\n",
    "            n_estimators=160,\n",
    "            silent=True,\n",
    "            objective='binary:logistic',\n",
    "            gamma=0.3,\n",
    "            min_child_weight=5,\n",
    "            max_delta_step=0,\n",
    "            subsample=0.8,\n",
    "            colsample_bytree=0.785,\n",
    "            colsample_bylevel=1,\n",
    "            reg_alpha=0.01,\n",
    "            reg_lambda=1,\n",
    "            scale_pos_weight=1,\n",
    "            seed=None,\n",
    "            missing=None)\n",
    "clf.fit(X_train, y_train)\n",
    "y_pred_xgb = clf.predict_proba(X_test)[:,1]\n",
    "fpr_xgb, tpr_xgb, _ = roc_curve(y_test, y_pred_xgb)\n",
    "auc(fpr_xgb, tpr_xgb)"
   ]
  }
 ],
 "metadata": {
  "kernelspec": {
   "display_name": "Python 3",
   "language": "python",
   "name": "python3"
  },
  "language_info": {
   "codemirror_mode": {
    "name": "ipython",
    "version": 3
   },
   "file_extension": ".py",
   "mimetype": "text/x-python",
   "name": "python",
   "nbconvert_exporter": "python",
   "pygments_lexer": "ipython3",
   "version": "3.6.5"
  }
 },
 "nbformat": 4,
 "nbformat_minor": 2
}
