{
 "cells": [
  {
   "cell_type": "code",
   "execution_count": 2,
   "metadata": {},
   "outputs": [],
   "source": [
    "# -*- coding: utf-8 -*-\n",
    "\"\"\"\n",
    "Unemployment Data Parsing\n",
    "\n",
    "This script collects the unemployment statistics from\n",
    "the 5 different states are saves a loadable dictionary\n",
    "for easy access.\n",
    "\"\"\"\n",
    "import pandas as pd\n",
    "import numpy as np\n",
    "\n",
    "import pickle\n",
    "import re\n",
    "\n",
    "states = ['AZ', 'CO', 'IA', 'PA', 'VA']\n",
    "csv_files = [state.lower() + '_unemp.csv' for state in states]\n",
    "\n",
    "unemp_data = None\n",
    "\n",
    "for csv_file, state in zip(csv_files, states):\n",
    "    state_data = pd.read_csv(csv_file)\n",
    "    state_data.drop(['Series ID', 'Period'], axis=1, inplace=True)\n",
    "    \n",
    "    state_data.rename(columns={'Year': 'year', 'Label': 'year_month', \n",
    "                               'Value': 'unemp_rate'},\n",
    "                      inplace=True)\n",
    "    state_data['state'] = state\n",
    "    if unemp_data is None:\n",
    "        unemp_data = state_data\n",
    "    else:\n",
    "        unemp_data = train_data = pd.concat([unemp_data, state_data], axis=0)\n",
    "\n",
    "\n",
    "short_month_to_long = {\n",
    "        'Jan': 'January',\n",
    "        'Feb': 'February',\n",
    "        'Mar': 'March',\n",
    "        'Apr': 'April',\n",
    "        'May': 'May',\n",
    "        'Jun': 'June',\n",
    "        'Jul': 'July',\n",
    "        'Aug': 'August',\n",
    "        'Sep': 'September',\n",
    "        'Oct': 'October',\n",
    "        'Nov': 'November',\n",
    "        'Dec': 'December'\n",
    "        }\n",
    "month_data = unemp_data['year_month'].values\n",
    "month_re_object = re.compile('\\d+\\s(\\w{3})')\n",
    "month_data = [short_month_to_long[re.match(month_re_object, x).group(1)]\n",
    " for x in month_data]\n",
    "unemp_data['month'] = month_data\n",
    "unemp_data.drop(['year_month'], inplace=True, axis=1)\n",
    "\n",
    "unemp_data.to_pickle('unemp_data.pkl')\n"
   ]
  },
  {
   "cell_type": "code",
   "execution_count": null,
   "metadata": {},
   "outputs": [],
   "source": []
  }
 ],
 "metadata": {
  "kernelspec": {
   "display_name": "Python 3",
   "language": "python",
   "name": "python3"
  },
  "language_info": {
   "codemirror_mode": {
    "name": "ipython",
    "version": 3
   },
   "file_extension": ".py",
   "mimetype": "text/x-python",
   "name": "python",
   "nbconvert_exporter": "python",
   "pygments_lexer": "ipython3",
   "version": "3.6.5"
  }
 },
 "nbformat": 4,
 "nbformat_minor": 2
}
